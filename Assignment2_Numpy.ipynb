{
  "nbformat": 4,
  "nbformat_minor": 0,
  "metadata": {
    "colab": {
      "provenance": [],
      "toc_visible": true,
      "include_colab_link": true
    },
    "kernelspec": {
      "name": "python3",
      "display_name": "Python 3"
    },
    "language_info": {
      "name": "python"
    }
  },
  "cells": [
    {
      "cell_type": "markdown",
      "metadata": {
        "id": "view-in-github",
        "colab_type": "text"
      },
      "source": [
        "<a href=\"https://colab.research.google.com/github/kaushal1017/Data-Analytics-Assignments/blob/main/Assignment2_Numpy.ipynb\" target=\"_parent\"><img src=\"https://colab.research.google.com/assets/colab-badge.svg\" alt=\"Open In Colab\"/></a>"
      ]
    },
    {
      "cell_type": "markdown",
      "source": [
        "## 1.) Create a NumPy array 'arr' of integers from 0 to 5 and print its data type."
      ],
      "metadata": {
        "id": "Iiyda_wxY6VG"
      }
    },
    {
      "cell_type": "code",
      "execution_count": null,
      "metadata": {
        "colab": {
          "base_uri": "https://localhost:8080/"
        },
        "id": "V4Ij-OZyY2lR",
        "outputId": "39b8c3a8-f3c9-4b5b-90f3-013eef6a5469"
      },
      "outputs": [
        {
          "output_type": "stream",
          "name": "stdout",
          "text": [
            "[1 2 3 4 5]\n",
            "\n",
            "<class 'numpy.ndarray'>\n"
          ]
        }
      ],
      "source": [
        "import numpy as np\n",
        "\n",
        "arr = np.array([1,2,3,4,5])\n",
        "\n",
        "print(arr)\n",
        "print()\n",
        "print(type(arr))"
      ]
    },
    {
      "cell_type": "markdown",
      "source": [
        "## 2.) Given a NumPy array 'arr', check if its data type is float64.\n",
        "\n",
        "\n",
        "  - arr = np.array([1.5, 2.6, 3.7])"
      ],
      "metadata": {
        "id": "uD934V41Zogl"
      }
    },
    {
      "cell_type": "code",
      "source": [
        "import numpy as np\n",
        "arr = np.array([1.5, 2.6, 3.7])\n",
        "print(arr)\n",
        "print(\"Datatype: \",arr.dtype)"
      ],
      "metadata": {
        "colab": {
          "base_uri": "https://localhost:8080/"
        },
        "id": "nsz00uNPZhV9",
        "outputId": "ffbf4b8d-6901-4cb4-83f2-9c0b40a5ec4f"
      },
      "execution_count": null,
      "outputs": [
        {
          "output_type": "stream",
          "name": "stdout",
          "text": [
            "[1.5 2.6 3.7]\n",
            "Datatype:  float64\n"
          ]
        }
      ]
    },
    {
      "cell_type": "markdown",
      "source": [
        "## 3.) Create a NumPy array 'arr' with a data type of complex128 containing three complex numbers."
      ],
      "metadata": {
        "id": "tdj_d7Fd85sx"
      }
    },
    {
      "cell_type": "code",
      "source": [
        "import numpy as np\n",
        "arr = np.array([1+5j,2+5j,3+4j])\n",
        "print(arr)\n",
        "print(\"Datatype: \",arr.dtype)"
      ],
      "metadata": {
        "id": "FfSGhmPqah_5",
        "colab": {
          "base_uri": "https://localhost:8080/"
        },
        "outputId": "bcd26340-bd29-40cb-86b9-2e7dfba5d90d"
      },
      "execution_count": null,
      "outputs": [
        {
          "output_type": "stream",
          "name": "stdout",
          "text": [
            "[1.+5.j 2.+5.j 3.+4.j]\n",
            "Datatype:  complex128\n"
          ]
        }
      ]
    },
    {
      "cell_type": "markdown",
      "source": [
        "## 4.) Convert an existing NumPy array 'arr' of integers to float32 data type."
      ],
      "metadata": {
        "id": "BOOJTx709TJv"
      }
    },
    {
      "cell_type": "code",
      "source": [
        "import numpy as np\n",
        "\n",
        "arr = np.array([1,2,3,4,5])\n",
        "print(\"Orignal array:\", arr)\n",
        "print(\"orignal type:\",type(arr))\n",
        "\n",
        "ar_float = arr.astype(np.float32)\n",
        "print(\"final array:\",ar_float)\n",
        "print(\"final type:\",ar_float.dtype)"
      ],
      "metadata": {
        "colab": {
          "base_uri": "https://localhost:8080/"
        },
        "id": "9Ah3WUpH9b-9",
        "outputId": "049e3f7a-fd93-4454-fe42-e7f03af283d3"
      },
      "execution_count": null,
      "outputs": [
        {
          "output_type": "stream",
          "name": "stdout",
          "text": [
            "Orignal array: [1 2 3 4 5]\n",
            "orignal type: <class 'numpy.ndarray'>\n",
            "final array: [1. 2. 3. 4. 5.]\n",
            "final type: float32\n"
          ]
        }
      ]
    },
    {
      "cell_type": "markdown",
      "source": [
        "## 5.) Given a NumPy array 'arr' with float64 data type, convert it to float32 to reduce decimal precision."
      ],
      "metadata": {
        "id": "iX0_Ut6zASl1"
      }
    },
    {
      "cell_type": "code",
      "source": [
        "import numpy as np\n",
        "\n",
        "arr = np.array([2.3,3.2,4.5],dtype= \"float64\")\n",
        "print(\"Orignal array:\", arr)\n",
        "print(\"orignal type:\",arr.dtype)\n",
        "\n",
        "ar_float = arr.astype(np.float32)\n",
        "print(\"final array:\",ar_float)\n",
        "print(\"final type:\",ar_float.dtype)"
      ],
      "metadata": {
        "colab": {
          "base_uri": "https://localhost:8080/"
        },
        "id": "-HrBQzmJ--hc",
        "outputId": "e6629e93-b3f5-4daa-ffb6-619478523939"
      },
      "execution_count": null,
      "outputs": [
        {
          "output_type": "stream",
          "name": "stdout",
          "text": [
            "Orignal array: [2.3 3.2 4.5]\n",
            "orignal type: float64\n",
            "final array: [2.3 3.2 4.5]\n",
            "final type: float32\n"
          ]
        }
      ]
    },
    {
      "cell_type": "markdown",
      "source": [
        "## 6.) Write a function array_attributes that takes a NumPy array as input and returns its shape, size, and data type?\n",
        "\n"
      ],
      "metadata": {
        "id": "GbuibB2OCCtc"
      }
    },
    {
      "cell_type": "code",
      "source": [
        "def array_attributes(ar1):\n",
        "  print(\"Array:\",ar1)\n",
        "  print(\"array shape =\",ar1.shape)\n",
        "  print(\"array size =\",ar1.size)\n",
        "  print(\"array type =\",ar1.dtype)\n",
        "\n",
        "\n",
        "ar1 = np.array([10,20,30,40,50])\n",
        "array_attributes(ar1)"
      ],
      "metadata": {
        "colab": {
          "base_uri": "https://localhost:8080/"
        },
        "id": "PUQUnXF1Au8h",
        "outputId": "62037992-cef5-42d0-81ce-efdee0e0d757"
      },
      "execution_count": null,
      "outputs": [
        {
          "output_type": "stream",
          "name": "stdout",
          "text": [
            "Array: [10 20 30 40 50]\n",
            "array shape = (5,)\n",
            "array size = 5\n",
            "array type = int64\n"
          ]
        }
      ]
    },
    {
      "cell_type": "markdown",
      "source": [
        "## 7.) Create a function array_dimension that takes a NumPy array as input and returns its dimensionality"
      ],
      "metadata": {
        "id": "syWMWEexE4Ju"
      }
    },
    {
      "cell_type": "code",
      "source": [
        "def array_dimension(ar2):\n",
        "  print(\"Array:\",ar2)\n",
        "  return ar2.ndim\n",
        "\n",
        "\n",
        "ar2 = np.array([10,20,30])\n",
        "print(\"Dimension:\",array_dimension(ar2))\n",
        "print()\n",
        "ar2 = np.array([[10,20],[30,40]])\n",
        "print(\"Dimension:\",array_dimension(ar2))\n",
        "print()\n",
        "ar2 = np.array([[[10,20,30]]])\n",
        "print(\"Dimension:\",array_dimension(ar2))"
      ],
      "metadata": {
        "colab": {
          "base_uri": "https://localhost:8080/"
        },
        "id": "jOPsWqS1DYJa",
        "outputId": "4326049c-cf3a-48f5-a00d-0b045619307d"
      },
      "execution_count": null,
      "outputs": [
        {
          "output_type": "stream",
          "name": "stdout",
          "text": [
            "Array: [10 20 30]\n",
            "Dimension: 1\n",
            "\n",
            "Array: [[10 20]\n",
            " [30 40]]\n",
            "Dimension: 2\n",
            "\n",
            "Array: [[[10 20 30]]]\n",
            "Dimension: 3\n"
          ]
        }
      ]
    },
    {
      "cell_type": "markdown",
      "source": [
        "## 8.) Design a function item_size_info that takes a NumPy array as input and returns the item size and the total size in bytes."
      ],
      "metadata": {
        "id": "ET0hnQLAH8dg"
      }
    },
    {
      "cell_type": "code",
      "source": [
        "def item_size_info(ar1):\n",
        "\n",
        "  print(\"given array:\",ar1)\n",
        "  print(\"Item size of given array:-\",ar1.itemsize)\n",
        "  print(\"Total memory size of given array:-\", \"%d bytes\"%(ar1.size * ar1.itemsize))\n",
        "\n",
        "\n",
        "ar1 = np.array([10,20,30,40,50])\n",
        "item_size_info(ar1)\n"
      ],
      "metadata": {
        "colab": {
          "base_uri": "https://localhost:8080/"
        },
        "id": "r-0XzEKOGW23",
        "outputId": "88aae6be-d55f-4ec7-e667-7a73ce097cbc"
      },
      "execution_count": null,
      "outputs": [
        {
          "output_type": "stream",
          "name": "stdout",
          "text": [
            "given array: [10 20 30 40 50]\n",
            "Item size of given array:- 8\n",
            "Total memory size of given array:- 40 bytes\n"
          ]
        }
      ]
    },
    {
      "cell_type": "markdown",
      "source": [
        "## 9.) Create a function array_strides that takes a NumPy array as input and returns the strides of the array"
      ],
      "metadata": {
        "id": "oI2vy3k8Lhoj"
      }
    },
    {
      "cell_type": "code",
      "source": [
        "import numpy as np\n",
        "\n",
        "def array_stride(ar1):\n",
        "  return ar1.stride\n",
        "\n",
        "ar1 = np.array([[1,2,3],\n",
        "               [4,5,6],\n",
        "               [7,8,9]])\n",
        "print(array_stride(ar1))\n"
      ],
      "metadata": {
        "id": "ZihJoVVGJ2CM"
      },
      "execution_count": null,
      "outputs": []
    },
    {
      "cell_type": "markdown",
      "source": [
        "## 10.) Design a function shape_stride_relationship that takes a NumPy array as input and returns the shape and strides of the array"
      ],
      "metadata": {
        "id": "zJRhl2Q0LpCf"
      }
    },
    {
      "cell_type": "code",
      "source": [
        "def shape_stride_relationship(arr1):\n",
        "  return arr1.shape, arr1.strides\n",
        "\n",
        "arr1 = np.array([[1,2,3],[4,5,6]])\n",
        "print(shape_stride_relationship(arr1))"
      ],
      "metadata": {
        "id": "J-TvOM3kLuvO",
        "colab": {
          "base_uri": "https://localhost:8080/"
        },
        "outputId": "d77f1458-e259-4160-8185-fd528b2c58ea"
      },
      "execution_count": null,
      "outputs": [
        {
          "output_type": "stream",
          "name": "stdout",
          "text": [
            "((2, 3), (24, 8))\n"
          ]
        }
      ]
    },
    {
      "cell_type": "markdown",
      "source": [
        "NOTE : The strides of an array tell us how many bytes we have to skip in memory to move to the next position along a certain axis."
      ],
      "metadata": {
        "id": "RVXTtJFtvkRN"
      }
    },
    {
      "cell_type": "markdown",
      "source": [
        "## 11.) Create a function create_zeros_array that takes an integer `n` as input and returns a NumPy array of zeros with `n` elements"
      ],
      "metadata": {
        "id": "cJ_QZUrEIfew"
      }
    },
    {
      "cell_type": "code",
      "source": [
        "import numpy as np\n",
        "\n",
        "def create_zeros_array(n):\n",
        "  ar = np.zeros(n)\n",
        "  return ar\n",
        "\n",
        "create_zeros_array(5)"
      ],
      "metadata": {
        "colab": {
          "base_uri": "https://localhost:8080/"
        },
        "id": "pEGn3ye8IsRq",
        "outputId": "f160a5ae-cd00-475b-afe8-cf93fdc5d9d6"
      },
      "execution_count": null,
      "outputs": [
        {
          "output_type": "execute_result",
          "data": {
            "text/plain": [
              "array([0., 0., 0., 0., 0.])"
            ]
          },
          "metadata": {},
          "execution_count": 14
        }
      ]
    },
    {
      "cell_type": "markdown",
      "source": [
        "## 12.) Write a function `create_ones_matrix` that takes integers `rows` and `cols` as inputs and generates a 2D NumPy array filled with ones of size `rows x cols`"
      ],
      "metadata": {
        "id": "4PjI5AWQKEQZ"
      }
    },
    {
      "cell_type": "code",
      "source": [
        "import numpy as np\n",
        "def create_ones_matrix(m,n):\n",
        "  ar_ones = np.ones((3,5))\n",
        "  return ar_ones\n",
        "\n",
        "create_ones_matrix(3,4)"
      ],
      "metadata": {
        "colab": {
          "base_uri": "https://localhost:8080/"
        },
        "id": "w_fW5RpHKYxl",
        "outputId": "78cfed77-c9a3-4978-c56b-80d5b14d7ec0"
      },
      "execution_count": null,
      "outputs": [
        {
          "output_type": "execute_result",
          "data": {
            "text/plain": [
              "array([[1., 1., 1., 1., 1.],\n",
              "       [1., 1., 1., 1., 1.],\n",
              "       [1., 1., 1., 1., 1.]])"
            ]
          },
          "metadata": {},
          "execution_count": 13
        }
      ]
    },
    {
      "cell_type": "markdown",
      "source": [
        "## 13.) Write a function `generate_range_array` that takes three integers start, stop, and step as arguments and creates a NumPy array with a range starting from `start`, ending at stop (exclusive), and with the specified\n",
        "`step`."
      ],
      "metadata": {
        "id": "2PAzs6IJM24l"
      }
    },
    {
      "cell_type": "code",
      "source": [
        "import numpy as np\n",
        "\n",
        "def generate_range_array(p,q,r):\n",
        "# input arguement p = start, q = stop, r = step\n",
        "\n",
        "  ar = np.arange(p,q,r)\n",
        "  return ar\n",
        "\n",
        "generate_range_array(10,30,3)\n"
      ],
      "metadata": {
        "colab": {
          "base_uri": "https://localhost:8080/"
        },
        "id": "j1eyWVr8NC7r",
        "outputId": "6a4cf52c-5025-4ad0-c66e-215ea65fcac4"
      },
      "execution_count": null,
      "outputs": [
        {
          "output_type": "execute_result",
          "data": {
            "text/plain": [
              "array([10, 13, 16, 19, 22, 25, 28])"
            ]
          },
          "metadata": {},
          "execution_count": 15
        }
      ]
    },
    {
      "cell_type": "markdown",
      "source": [
        "## 14.) Design a function `generate_linear_space` that takes two floats `start`, `stop`, and an integer `num` as arguments and generates a NumPy array with num equally spaced values between `start` and `stop` (inclusive)."
      ],
      "metadata": {
        "id": "542aAD8sOqAj"
      }
    },
    {
      "cell_type": "code",
      "source": [
        "import numpy as np\n",
        "def generate_linear_space(p,q,n):\n",
        "  ar = np.linspace(p,q,n)\n",
        "  return ar\n",
        "\n",
        "generate_linear_space(1,30,10)\n"
      ],
      "metadata": {
        "colab": {
          "base_uri": "https://localhost:8080/"
        },
        "id": "vvuvnjg_OxND",
        "outputId": "52b65532-8910-41a7-df7f-227866a599c5"
      },
      "execution_count": null,
      "outputs": [
        {
          "output_type": "execute_result",
          "data": {
            "text/plain": [
              "array([ 1.        ,  4.22222222,  7.44444444, 10.66666667, 13.88888889,\n",
              "       17.11111111, 20.33333333, 23.55555556, 26.77777778, 30.        ])"
            ]
          },
          "metadata": {},
          "execution_count": 26
        }
      ]
    },
    {
      "cell_type": "markdown",
      "source": [
        "## 15.) Create a function`create_identity_matrix` that takes an integer `n` as input and generates a square identity matrix of size `n x n` using`numpy.eye`."
      ],
      "metadata": {
        "id": "QcT5v5XSTAg-"
      }
    },
    {
      "cell_type": "code",
      "source": [
        "import numpy as np\n",
        "\n",
        "def create_identity_matrix(n):\n",
        "  ar = np.eye(n)\n",
        "  return ar\n",
        "\n",
        "create_identity_matrix(4)"
      ],
      "metadata": {
        "colab": {
          "base_uri": "https://localhost:8080/"
        },
        "id": "p1SvOcQITOEt",
        "outputId": "1f459f95-f68b-4864-dc5b-9c42fc53db57"
      },
      "execution_count": null,
      "outputs": [
        {
          "output_type": "execute_result",
          "data": {
            "text/plain": [
              "array([[1., 0., 0., 0.],\n",
              "       [0., 1., 0., 0.],\n",
              "       [0., 0., 1., 0.],\n",
              "       [0., 0., 0., 1.]])"
            ]
          },
          "metadata": {},
          "execution_count": 27
        }
      ]
    },
    {
      "cell_type": "markdown",
      "source": [
        "## 16.) Write a function that takes a Python list and converts it into a NumPy array."
      ],
      "metadata": {
        "id": "PMyK9_XxTyoG"
      }
    },
    {
      "cell_type": "code",
      "source": [
        "import numpy as np\n",
        "\n",
        "def list_into_array(list1):\n",
        "  ar = np.array(list1)\n",
        "  return ar\n",
        "\n",
        "list1= [10,20,30,40,50]\n",
        "list_into_array(list1)"
      ],
      "metadata": {
        "colab": {
          "base_uri": "https://localhost:8080/"
        },
        "id": "TLL0FfYcUoau",
        "outputId": "4be2f090-a7d7-4350-c716-13d8fe23f96d"
      },
      "execution_count": null,
      "outputs": [
        {
          "output_type": "execute_result",
          "data": {
            "text/plain": [
              "array([10, 20, 30, 40, 50])"
            ]
          },
          "metadata": {},
          "execution_count": 28
        }
      ]
    },
    {
      "cell_type": "markdown",
      "source": [
        "## 17.) Create a NumPy array and demonstrate the use of `numpy.view` to create a new array object with the same data."
      ],
      "metadata": {
        "id": "kIc7wXq3G4i1"
      }
    },
    {
      "cell_type": "code",
      "source": [
        "import numpy as np\n",
        "ar1 = np.array([10,20,30,40])\n",
        "print(\"first array: \",ar1,type(ar1))\n",
        "ar2 = ar1.view()\n",
        "print(\"second array: \",ar2,type(ar2))\n"
      ],
      "metadata": {
        "colab": {
          "base_uri": "https://localhost:8080/"
        },
        "id": "fNDS3_sEVSx-",
        "outputId": "6ebd9875-0c32-4684-94ed-4eb4e282a60b"
      },
      "execution_count": null,
      "outputs": [
        {
          "output_type": "stream",
          "name": "stdout",
          "text": [
            "first array:  [10 20 30 40] <class 'numpy.ndarray'>\n",
            "second array:  [10 20 30 40] <class 'numpy.ndarray'>\n"
          ]
        }
      ]
    },
    {
      "cell_type": "markdown",
      "source": [
        "## 18.) Write a function that takes two NumPy arrays and concatenates them along a specified axis"
      ],
      "metadata": {
        "id": "1N2JLI_qUDCj"
      }
    },
    {
      "cell_type": "code",
      "source": [
        "import numpy as np\n",
        "\n",
        "def concat_2ar(x,y):\n",
        "  return np.concatenate([x,y])\n",
        "\n",
        "x = np.array([10,20,30])\n",
        "y = np.array([40,50])\n",
        "concat_2ar(x,y)\n"
      ],
      "metadata": {
        "colab": {
          "base_uri": "https://localhost:8080/"
        },
        "id": "1FkQ5fe2Vrow",
        "outputId": "a16b53c2-d7fa-4db4-b2c3-f572b29ab3c3"
      },
      "execution_count": null,
      "outputs": [
        {
          "output_type": "execute_result",
          "data": {
            "text/plain": [
              "array([10, 20, 30, 40, 50])"
            ]
          },
          "metadata": {},
          "execution_count": 36
        }
      ]
    },
    {
      "cell_type": "markdown",
      "source": [
        "## 19.) Create two NumPy arrays with different shapes and concatenate them horizontally ."
      ],
      "metadata": {
        "id": "Wq3VRR9xZWM3"
      }
    },
    {
      "cell_type": "code",
      "source": [
        "import numpy as np\n",
        "\n",
        "def concat_hz(x,y):\n",
        "  return np.concatenate([x,y],axis =1)\n",
        "\n",
        "x = np.array([[1,2],[3,4]])\n",
        "y = np.array([[1,2,3],[3,4,2]])\n",
        "\n",
        "concat_hz(x,y)"
      ],
      "metadata": {
        "colab": {
          "base_uri": "https://localhost:8080/"
        },
        "id": "w4fTeDnScrGo",
        "outputId": "076b852f-86b3-4a3c-fc8f-944b0a738bf9"
      },
      "execution_count": null,
      "outputs": [
        {
          "output_type": "execute_result",
          "data": {
            "text/plain": [
              "array([[1, 2, 1, 2, 3],\n",
              "       [3, 4, 3, 4, 2]])"
            ]
          },
          "metadata": {},
          "execution_count": 2
        }
      ]
    },
    {
      "cell_type": "markdown",
      "source": [
        "## 20.) Write a function that vertically stacks multiple NumPy arrays given as a list"
      ],
      "metadata": {
        "id": "BsOHMkuZZZwx"
      }
    },
    {
      "cell_type": "code",
      "source": [
        "import numpy as np\n",
        "\n",
        "def ver_stack(x,y):\n",
        "  return np.vstack((x,y))\n",
        "\n",
        "\n",
        "x = np.array([3, 5, 7])\n",
        "y = np.array([5, 7, 9])\n",
        "ver_stack(x,y)"
      ],
      "metadata": {
        "colab": {
          "base_uri": "https://localhost:8080/"
        },
        "id": "szJMwgW6dinS",
        "outputId": "cddc17ca-ebeb-41b8-e737-979b13f9edd4"
      },
      "execution_count": null,
      "outputs": [
        {
          "output_type": "execute_result",
          "data": {
            "text/plain": [
              "array([[3, 5, 7],\n",
              "       [5, 7, 9]])"
            ]
          },
          "metadata": {},
          "execution_count": 9
        }
      ]
    },
    {
      "cell_type": "markdown",
      "source": [
        "## 21.) Write a Python function using NumPy to create an array of integers within a specified range (inclusive) with a given step size."
      ],
      "metadata": {
        "id": "lLUbCtGTZfsZ"
      }
    },
    {
      "cell_type": "code",
      "source": [
        "import numpy as np\n",
        "def array_in_range(l,u,s):\n",
        "  return np.arange(l,u+1,s)\n",
        "\n",
        "array_in_range(10,50,2)"
      ],
      "metadata": {
        "colab": {
          "base_uri": "https://localhost:8080/"
        },
        "id": "YGk-LnMWf0vo",
        "outputId": "dc863021-8251-476a-c242-7fb7e96aa55c"
      },
      "execution_count": null,
      "outputs": [
        {
          "output_type": "execute_result",
          "data": {
            "text/plain": [
              "array([10, 12, 14, 16, 18, 20, 22, 24, 26, 28, 30, 32, 34, 36, 38, 40, 42,\n",
              "       44, 46, 48, 50])"
            ]
          },
          "metadata": {},
          "execution_count": 12
        }
      ]
    },
    {
      "cell_type": "markdown",
      "source": [
        "## 22.) Write a Python function using NumPy to generate an array of 10 equally spaced values between 0 and 1 (inclusive)."
      ],
      "metadata": {
        "id": "g2gjXmLYZl4f"
      }
    },
    {
      "cell_type": "code",
      "source": [
        "import numpy as np\n",
        "\n",
        "def array_equally_spaced(l,u,num):\n",
        "  return np.linspace(l,u,num)\n",
        "\n",
        "array_equally_spaced(0,1,10)"
      ],
      "metadata": {
        "colab": {
          "base_uri": "https://localhost:8080/"
        },
        "id": "vXW1i9O_f1WF",
        "outputId": "7f158909-d262-4b57-c42a-bd0bbb6d86c7"
      },
      "execution_count": null,
      "outputs": [
        {
          "output_type": "execute_result",
          "data": {
            "text/plain": [
              "array([0.        , 0.11111111, 0.22222222, 0.33333333, 0.44444444,\n",
              "       0.55555556, 0.66666667, 0.77777778, 0.88888889, 1.        ])"
            ]
          },
          "metadata": {},
          "execution_count": 15
        }
      ]
    },
    {
      "cell_type": "markdown",
      "source": [
        "## 23.) Write a Python function using NumPy to create an array of 5 logarithmically spaced values between 1 and 1000 (inclusive)."
      ],
      "metadata": {
        "id": "mT0SN_bQZtJn"
      }
    },
    {
      "cell_type": "code",
      "source": [
        "import numpy as np\n",
        "\n",
        "def log_spaced_value(l,u,num):\n",
        "  return np.logspace(l,u,num)\n",
        "\n",
        "log_spaced_value(1,1000,5)"
      ],
      "metadata": {
        "colab": {
          "base_uri": "https://localhost:8080/"
        },
        "id": "dL4SGQaxijSj",
        "outputId": "344fe151-599e-45f0-8ef7-d3d33f793047"
      },
      "execution_count": null,
      "outputs": [
        {
          "output_type": "execute_result",
          "data": {
            "text/plain": [
              "array([1.00000000e+001, 5.62341325e+250,             inf,             inf,\n",
              "                   inf])"
            ]
          },
          "metadata": {},
          "execution_count": 17
        }
      ]
    },
    {
      "cell_type": "markdown",
      "source": [
        "## 24.) Create a Pandas DataFrame using a NumPy array that contains 5 rows and 3 columns, where the values are random integers between 1 and 100."
      ],
      "metadata": {
        "id": "2J5b8yXmkVP4"
      }
    },
    {
      "cell_type": "code",
      "source": [
        "import numpy as np\n",
        "import pandas as pd\n",
        "\n",
        "ar = np.random.randint(100,size= (5,3))\n",
        "df = pd.DataFrame(ar)\n",
        "df\n",
        "\n"
      ],
      "metadata": {
        "colab": {
          "base_uri": "https://localhost:8080/",
          "height": 206
        },
        "id": "xaU2J4D4kkeE",
        "outputId": "35d66a3e-9dba-4e03-cc18-2a41f334ff6c"
      },
      "execution_count": null,
      "outputs": [
        {
          "output_type": "execute_result",
          "data": {
            "text/plain": [
              "    0   1   2\n",
              "0   2  20  15\n",
              "1  73  86  32\n",
              "2  81  66  63\n",
              "3  52  61  38\n",
              "4  58  40   9"
            ],
            "text/html": [
              "\n",
              "  <div id=\"df-8ae280d5-6525-4973-b043-6377d29bd5c4\" class=\"colab-df-container\">\n",
              "    <div>\n",
              "<style scoped>\n",
              "    .dataframe tbody tr th:only-of-type {\n",
              "        vertical-align: middle;\n",
              "    }\n",
              "\n",
              "    .dataframe tbody tr th {\n",
              "        vertical-align: top;\n",
              "    }\n",
              "\n",
              "    .dataframe thead th {\n",
              "        text-align: right;\n",
              "    }\n",
              "</style>\n",
              "<table border=\"1\" class=\"dataframe\">\n",
              "  <thead>\n",
              "    <tr style=\"text-align: right;\">\n",
              "      <th></th>\n",
              "      <th>0</th>\n",
              "      <th>1</th>\n",
              "      <th>2</th>\n",
              "    </tr>\n",
              "  </thead>\n",
              "  <tbody>\n",
              "    <tr>\n",
              "      <th>0</th>\n",
              "      <td>2</td>\n",
              "      <td>20</td>\n",
              "      <td>15</td>\n",
              "    </tr>\n",
              "    <tr>\n",
              "      <th>1</th>\n",
              "      <td>73</td>\n",
              "      <td>86</td>\n",
              "      <td>32</td>\n",
              "    </tr>\n",
              "    <tr>\n",
              "      <th>2</th>\n",
              "      <td>81</td>\n",
              "      <td>66</td>\n",
              "      <td>63</td>\n",
              "    </tr>\n",
              "    <tr>\n",
              "      <th>3</th>\n",
              "      <td>52</td>\n",
              "      <td>61</td>\n",
              "      <td>38</td>\n",
              "    </tr>\n",
              "    <tr>\n",
              "      <th>4</th>\n",
              "      <td>58</td>\n",
              "      <td>40</td>\n",
              "      <td>9</td>\n",
              "    </tr>\n",
              "  </tbody>\n",
              "</table>\n",
              "</div>\n",
              "    <div class=\"colab-df-buttons\">\n",
              "\n",
              "  <div class=\"colab-df-container\">\n",
              "    <button class=\"colab-df-convert\" onclick=\"convertToInteractive('df-8ae280d5-6525-4973-b043-6377d29bd5c4')\"\n",
              "            title=\"Convert this dataframe to an interactive table.\"\n",
              "            style=\"display:none;\">\n",
              "\n",
              "  <svg xmlns=\"http://www.w3.org/2000/svg\" height=\"24px\" viewBox=\"0 -960 960 960\">\n",
              "    <path d=\"M120-120v-720h720v720H120Zm60-500h600v-160H180v160Zm220 220h160v-160H400v160Zm0 220h160v-160H400v160ZM180-400h160v-160H180v160Zm440 0h160v-160H620v160ZM180-180h160v-160H180v160Zm440 0h160v-160H620v160Z\"/>\n",
              "  </svg>\n",
              "    </button>\n",
              "\n",
              "  <style>\n",
              "    .colab-df-container {\n",
              "      display:flex;\n",
              "      gap: 12px;\n",
              "    }\n",
              "\n",
              "    .colab-df-convert {\n",
              "      background-color: #E8F0FE;\n",
              "      border: none;\n",
              "      border-radius: 50%;\n",
              "      cursor: pointer;\n",
              "      display: none;\n",
              "      fill: #1967D2;\n",
              "      height: 32px;\n",
              "      padding: 0 0 0 0;\n",
              "      width: 32px;\n",
              "    }\n",
              "\n",
              "    .colab-df-convert:hover {\n",
              "      background-color: #E2EBFA;\n",
              "      box-shadow: 0px 1px 2px rgba(60, 64, 67, 0.3), 0px 1px 3px 1px rgba(60, 64, 67, 0.15);\n",
              "      fill: #174EA6;\n",
              "    }\n",
              "\n",
              "    .colab-df-buttons div {\n",
              "      margin-bottom: 4px;\n",
              "    }\n",
              "\n",
              "    [theme=dark] .colab-df-convert {\n",
              "      background-color: #3B4455;\n",
              "      fill: #D2E3FC;\n",
              "    }\n",
              "\n",
              "    [theme=dark] .colab-df-convert:hover {\n",
              "      background-color: #434B5C;\n",
              "      box-shadow: 0px 1px 3px 1px rgba(0, 0, 0, 0.15);\n",
              "      filter: drop-shadow(0px 1px 2px rgba(0, 0, 0, 0.3));\n",
              "      fill: #FFFFFF;\n",
              "    }\n",
              "  </style>\n",
              "\n",
              "    <script>\n",
              "      const buttonEl =\n",
              "        document.querySelector('#df-8ae280d5-6525-4973-b043-6377d29bd5c4 button.colab-df-convert');\n",
              "      buttonEl.style.display =\n",
              "        google.colab.kernel.accessAllowed ? 'block' : 'none';\n",
              "\n",
              "      async function convertToInteractive(key) {\n",
              "        const element = document.querySelector('#df-8ae280d5-6525-4973-b043-6377d29bd5c4');\n",
              "        const dataTable =\n",
              "          await google.colab.kernel.invokeFunction('convertToInteractive',\n",
              "                                                    [key], {});\n",
              "        if (!dataTable) return;\n",
              "\n",
              "        const docLinkHtml = 'Like what you see? Visit the ' +\n",
              "          '<a target=\"_blank\" href=https://colab.research.google.com/notebooks/data_table.ipynb>data table notebook</a>'\n",
              "          + ' to learn more about interactive tables.';\n",
              "        element.innerHTML = '';\n",
              "        dataTable['output_type'] = 'display_data';\n",
              "        await google.colab.output.renderOutput(dataTable, element);\n",
              "        const docLink = document.createElement('div');\n",
              "        docLink.innerHTML = docLinkHtml;\n",
              "        element.appendChild(docLink);\n",
              "      }\n",
              "    </script>\n",
              "  </div>\n",
              "\n",
              "\n",
              "<div id=\"df-ca94b052-d915-48e1-a2f8-3f06288e7ff8\">\n",
              "  <button class=\"colab-df-quickchart\" onclick=\"quickchart('df-ca94b052-d915-48e1-a2f8-3f06288e7ff8')\"\n",
              "            title=\"Suggest charts\"\n",
              "            style=\"display:none;\">\n",
              "\n",
              "<svg xmlns=\"http://www.w3.org/2000/svg\" height=\"24px\"viewBox=\"0 0 24 24\"\n",
              "     width=\"24px\">\n",
              "    <g>\n",
              "        <path d=\"M19 3H5c-1.1 0-2 .9-2 2v14c0 1.1.9 2 2 2h14c1.1 0 2-.9 2-2V5c0-1.1-.9-2-2-2zM9 17H7v-7h2v7zm4 0h-2V7h2v10zm4 0h-2v-4h2v4z\"/>\n",
              "    </g>\n",
              "</svg>\n",
              "  </button>\n",
              "\n",
              "<style>\n",
              "  .colab-df-quickchart {\n",
              "      --bg-color: #E8F0FE;\n",
              "      --fill-color: #1967D2;\n",
              "      --hover-bg-color: #E2EBFA;\n",
              "      --hover-fill-color: #174EA6;\n",
              "      --disabled-fill-color: #AAA;\n",
              "      --disabled-bg-color: #DDD;\n",
              "  }\n",
              "\n",
              "  [theme=dark] .colab-df-quickchart {\n",
              "      --bg-color: #3B4455;\n",
              "      --fill-color: #D2E3FC;\n",
              "      --hover-bg-color: #434B5C;\n",
              "      --hover-fill-color: #FFFFFF;\n",
              "      --disabled-bg-color: #3B4455;\n",
              "      --disabled-fill-color: #666;\n",
              "  }\n",
              "\n",
              "  .colab-df-quickchart {\n",
              "    background-color: var(--bg-color);\n",
              "    border: none;\n",
              "    border-radius: 50%;\n",
              "    cursor: pointer;\n",
              "    display: none;\n",
              "    fill: var(--fill-color);\n",
              "    height: 32px;\n",
              "    padding: 0;\n",
              "    width: 32px;\n",
              "  }\n",
              "\n",
              "  .colab-df-quickchart:hover {\n",
              "    background-color: var(--hover-bg-color);\n",
              "    box-shadow: 0 1px 2px rgba(60, 64, 67, 0.3), 0 1px 3px 1px rgba(60, 64, 67, 0.15);\n",
              "    fill: var(--button-hover-fill-color);\n",
              "  }\n",
              "\n",
              "  .colab-df-quickchart-complete:disabled,\n",
              "  .colab-df-quickchart-complete:disabled:hover {\n",
              "    background-color: var(--disabled-bg-color);\n",
              "    fill: var(--disabled-fill-color);\n",
              "    box-shadow: none;\n",
              "  }\n",
              "\n",
              "  .colab-df-spinner {\n",
              "    border: 2px solid var(--fill-color);\n",
              "    border-color: transparent;\n",
              "    border-bottom-color: var(--fill-color);\n",
              "    animation:\n",
              "      spin 1s steps(1) infinite;\n",
              "  }\n",
              "\n",
              "  @keyframes spin {\n",
              "    0% {\n",
              "      border-color: transparent;\n",
              "      border-bottom-color: var(--fill-color);\n",
              "      border-left-color: var(--fill-color);\n",
              "    }\n",
              "    20% {\n",
              "      border-color: transparent;\n",
              "      border-left-color: var(--fill-color);\n",
              "      border-top-color: var(--fill-color);\n",
              "    }\n",
              "    30% {\n",
              "      border-color: transparent;\n",
              "      border-left-color: var(--fill-color);\n",
              "      border-top-color: var(--fill-color);\n",
              "      border-right-color: var(--fill-color);\n",
              "    }\n",
              "    40% {\n",
              "      border-color: transparent;\n",
              "      border-right-color: var(--fill-color);\n",
              "      border-top-color: var(--fill-color);\n",
              "    }\n",
              "    60% {\n",
              "      border-color: transparent;\n",
              "      border-right-color: var(--fill-color);\n",
              "    }\n",
              "    80% {\n",
              "      border-color: transparent;\n",
              "      border-right-color: var(--fill-color);\n",
              "      border-bottom-color: var(--fill-color);\n",
              "    }\n",
              "    90% {\n",
              "      border-color: transparent;\n",
              "      border-bottom-color: var(--fill-color);\n",
              "    }\n",
              "  }\n",
              "</style>\n",
              "\n",
              "  <script>\n",
              "    async function quickchart(key) {\n",
              "      const quickchartButtonEl =\n",
              "        document.querySelector('#' + key + ' button');\n",
              "      quickchartButtonEl.disabled = true;  // To prevent multiple clicks.\n",
              "      quickchartButtonEl.classList.add('colab-df-spinner');\n",
              "      try {\n",
              "        const charts = await google.colab.kernel.invokeFunction(\n",
              "            'suggestCharts', [key], {});\n",
              "      } catch (error) {\n",
              "        console.error('Error during call to suggestCharts:', error);\n",
              "      }\n",
              "      quickchartButtonEl.classList.remove('colab-df-spinner');\n",
              "      quickchartButtonEl.classList.add('colab-df-quickchart-complete');\n",
              "    }\n",
              "    (() => {\n",
              "      let quickchartButtonEl =\n",
              "        document.querySelector('#df-ca94b052-d915-48e1-a2f8-3f06288e7ff8 button');\n",
              "      quickchartButtonEl.style.display =\n",
              "        google.colab.kernel.accessAllowed ? 'block' : 'none';\n",
              "    })();\n",
              "  </script>\n",
              "</div>\n",
              "\n",
              "  <div id=\"id_68b3c4c0-1ee8-47f4-95a7-dc07693f6cdb\">\n",
              "    <style>\n",
              "      .colab-df-generate {\n",
              "        background-color: #E8F0FE;\n",
              "        border: none;\n",
              "        border-radius: 50%;\n",
              "        cursor: pointer;\n",
              "        display: none;\n",
              "        fill: #1967D2;\n",
              "        height: 32px;\n",
              "        padding: 0 0 0 0;\n",
              "        width: 32px;\n",
              "      }\n",
              "\n",
              "      .colab-df-generate:hover {\n",
              "        background-color: #E2EBFA;\n",
              "        box-shadow: 0px 1px 2px rgba(60, 64, 67, 0.3), 0px 1px 3px 1px rgba(60, 64, 67, 0.15);\n",
              "        fill: #174EA6;\n",
              "      }\n",
              "\n",
              "      [theme=dark] .colab-df-generate {\n",
              "        background-color: #3B4455;\n",
              "        fill: #D2E3FC;\n",
              "      }\n",
              "\n",
              "      [theme=dark] .colab-df-generate:hover {\n",
              "        background-color: #434B5C;\n",
              "        box-shadow: 0px 1px 3px 1px rgba(0, 0, 0, 0.15);\n",
              "        filter: drop-shadow(0px 1px 2px rgba(0, 0, 0, 0.3));\n",
              "        fill: #FFFFFF;\n",
              "      }\n",
              "    </style>\n",
              "    <button class=\"colab-df-generate\" onclick=\"generateWithVariable('df')\"\n",
              "            title=\"Generate code using this dataframe.\"\n",
              "            style=\"display:none;\">\n",
              "\n",
              "  <svg xmlns=\"http://www.w3.org/2000/svg\" height=\"24px\"viewBox=\"0 0 24 24\"\n",
              "       width=\"24px\">\n",
              "    <path d=\"M7,19H8.4L18.45,9,17,7.55,7,17.6ZM5,21V16.75L18.45,3.32a2,2,0,0,1,2.83,0l1.4,1.43a1.91,1.91,0,0,1,.58,1.4,1.91,1.91,0,0,1-.58,1.4L9.25,21ZM18.45,9,17,7.55Zm-12,3A5.31,5.31,0,0,0,4.9,8.1,5.31,5.31,0,0,0,1,6.5,5.31,5.31,0,0,0,4.9,4.9,5.31,5.31,0,0,0,6.5,1,5.31,5.31,0,0,0,8.1,4.9,5.31,5.31,0,0,0,12,6.5,5.46,5.46,0,0,0,6.5,12Z\"/>\n",
              "  </svg>\n",
              "    </button>\n",
              "    <script>\n",
              "      (() => {\n",
              "      const buttonEl =\n",
              "        document.querySelector('#id_68b3c4c0-1ee8-47f4-95a7-dc07693f6cdb button.colab-df-generate');\n",
              "      buttonEl.style.display =\n",
              "        google.colab.kernel.accessAllowed ? 'block' : 'none';\n",
              "\n",
              "      buttonEl.onclick = () => {\n",
              "        google.colab.notebook.generateWithVariable('df');\n",
              "      }\n",
              "      })();\n",
              "    </script>\n",
              "  </div>\n",
              "\n",
              "    </div>\n",
              "  </div>\n"
            ],
            "application/vnd.google.colaboratory.intrinsic+json": {
              "type": "dataframe",
              "variable_name": "df",
              "summary": "{\n  \"name\": \"df\",\n  \"rows\": 5,\n  \"fields\": [\n    {\n      \"column\": 0,\n      \"properties\": {\n        \"dtype\": \"number\",\n        \"std\": 30,\n        \"min\": 2,\n        \"max\": 81,\n        \"num_unique_values\": 5,\n        \"samples\": [\n          73,\n          58,\n          81\n        ],\n        \"semantic_type\": \"\",\n        \"description\": \"\"\n      }\n    },\n    {\n      \"column\": 1,\n      \"properties\": {\n        \"dtype\": \"number\",\n        \"std\": 25,\n        \"min\": 20,\n        \"max\": 86,\n        \"num_unique_values\": 5,\n        \"samples\": [\n          86,\n          40,\n          66\n        ],\n        \"semantic_type\": \"\",\n        \"description\": \"\"\n      }\n    },\n    {\n      \"column\": 2,\n      \"properties\": {\n        \"dtype\": \"number\",\n        \"std\": 21,\n        \"min\": 9,\n        \"max\": 63,\n        \"num_unique_values\": 5,\n        \"samples\": [\n          32,\n          9,\n          63\n        ],\n        \"semantic_type\": \"\",\n        \"description\": \"\"\n      }\n    }\n  ]\n}"
            }
          },
          "metadata": {},
          "execution_count": 10
        }
      ]
    },
    {
      "cell_type": "markdown",
      "source": [
        "## 25.) Write a function that takes a Pandas DataFrame and replaces all negative values in a specific column with zeros. Use NumPy operations within the Pandas DataFrame"
      ],
      "metadata": {
        "id": "S9KiBqibUOYN"
      }
    },
    {
      "cell_type": "code",
      "source": [
        "import pandas as pd\n",
        "\n",
        "df = pd.DataFrame({\"A\": [1, 2, -3, 4, -5, 6],\n",
        "                   \"B\": [3, -5, -6, 7, 3, -2],\n",
        "                   \"C\": [-4, 5, 6, -7, 5, 4]})\n",
        "\n",
        "print(\"Original Array : \")\n",
        "print(df)\n",
        "\n",
        "df[df < 0] = 0\n",
        "print(\"\\nNew Array :\")\n",
        "df"
      ],
      "metadata": {
        "colab": {
          "base_uri": "https://localhost:8080/",
          "height": 411
        },
        "id": "IJ7WDyMtGG56",
        "outputId": "48703cd8-86b2-4ae2-e849-4edda8710ee8"
      },
      "execution_count": null,
      "outputs": [
        {
          "output_type": "stream",
          "name": "stdout",
          "text": [
            "Original Array : \n",
            "   A  B  C\n",
            "0  1  3 -4\n",
            "1  2 -5  5\n",
            "2 -3 -6  6\n",
            "3  4  7 -7\n",
            "4 -5  3  5\n",
            "5  6 -2  4\n",
            "\n",
            "New Array :\n"
          ]
        },
        {
          "output_type": "execute_result",
          "data": {
            "text/plain": [
              "   A  B  C\n",
              "0  1  3  0\n",
              "1  2  0  5\n",
              "2  0  0  6\n",
              "3  4  7  0\n",
              "4  0  3  5\n",
              "5  6  0  4"
            ],
            "text/html": [
              "\n",
              "  <div id=\"df-2f55ad75-5d1d-4f8d-9ecc-5cfa22a8003c\" class=\"colab-df-container\">\n",
              "    <div>\n",
              "<style scoped>\n",
              "    .dataframe tbody tr th:only-of-type {\n",
              "        vertical-align: middle;\n",
              "    }\n",
              "\n",
              "    .dataframe tbody tr th {\n",
              "        vertical-align: top;\n",
              "    }\n",
              "\n",
              "    .dataframe thead th {\n",
              "        text-align: right;\n",
              "    }\n",
              "</style>\n",
              "<table border=\"1\" class=\"dataframe\">\n",
              "  <thead>\n",
              "    <tr style=\"text-align: right;\">\n",
              "      <th></th>\n",
              "      <th>A</th>\n",
              "      <th>B</th>\n",
              "      <th>C</th>\n",
              "    </tr>\n",
              "  </thead>\n",
              "  <tbody>\n",
              "    <tr>\n",
              "      <th>0</th>\n",
              "      <td>1</td>\n",
              "      <td>3</td>\n",
              "      <td>0</td>\n",
              "    </tr>\n",
              "    <tr>\n",
              "      <th>1</th>\n",
              "      <td>2</td>\n",
              "      <td>0</td>\n",
              "      <td>5</td>\n",
              "    </tr>\n",
              "    <tr>\n",
              "      <th>2</th>\n",
              "      <td>0</td>\n",
              "      <td>0</td>\n",
              "      <td>6</td>\n",
              "    </tr>\n",
              "    <tr>\n",
              "      <th>3</th>\n",
              "      <td>4</td>\n",
              "      <td>7</td>\n",
              "      <td>0</td>\n",
              "    </tr>\n",
              "    <tr>\n",
              "      <th>4</th>\n",
              "      <td>0</td>\n",
              "      <td>3</td>\n",
              "      <td>5</td>\n",
              "    </tr>\n",
              "    <tr>\n",
              "      <th>5</th>\n",
              "      <td>6</td>\n",
              "      <td>0</td>\n",
              "      <td>4</td>\n",
              "    </tr>\n",
              "  </tbody>\n",
              "</table>\n",
              "</div>\n",
              "    <div class=\"colab-df-buttons\">\n",
              "\n",
              "  <div class=\"colab-df-container\">\n",
              "    <button class=\"colab-df-convert\" onclick=\"convertToInteractive('df-2f55ad75-5d1d-4f8d-9ecc-5cfa22a8003c')\"\n",
              "            title=\"Convert this dataframe to an interactive table.\"\n",
              "            style=\"display:none;\">\n",
              "\n",
              "  <svg xmlns=\"http://www.w3.org/2000/svg\" height=\"24px\" viewBox=\"0 -960 960 960\">\n",
              "    <path d=\"M120-120v-720h720v720H120Zm60-500h600v-160H180v160Zm220 220h160v-160H400v160Zm0 220h160v-160H400v160ZM180-400h160v-160H180v160Zm440 0h160v-160H620v160ZM180-180h160v-160H180v160Zm440 0h160v-160H620v160Z\"/>\n",
              "  </svg>\n",
              "    </button>\n",
              "\n",
              "  <style>\n",
              "    .colab-df-container {\n",
              "      display:flex;\n",
              "      gap: 12px;\n",
              "    }\n",
              "\n",
              "    .colab-df-convert {\n",
              "      background-color: #E8F0FE;\n",
              "      border: none;\n",
              "      border-radius: 50%;\n",
              "      cursor: pointer;\n",
              "      display: none;\n",
              "      fill: #1967D2;\n",
              "      height: 32px;\n",
              "      padding: 0 0 0 0;\n",
              "      width: 32px;\n",
              "    }\n",
              "\n",
              "    .colab-df-convert:hover {\n",
              "      background-color: #E2EBFA;\n",
              "      box-shadow: 0px 1px 2px rgba(60, 64, 67, 0.3), 0px 1px 3px 1px rgba(60, 64, 67, 0.15);\n",
              "      fill: #174EA6;\n",
              "    }\n",
              "\n",
              "    .colab-df-buttons div {\n",
              "      margin-bottom: 4px;\n",
              "    }\n",
              "\n",
              "    [theme=dark] .colab-df-convert {\n",
              "      background-color: #3B4455;\n",
              "      fill: #D2E3FC;\n",
              "    }\n",
              "\n",
              "    [theme=dark] .colab-df-convert:hover {\n",
              "      background-color: #434B5C;\n",
              "      box-shadow: 0px 1px 3px 1px rgba(0, 0, 0, 0.15);\n",
              "      filter: drop-shadow(0px 1px 2px rgba(0, 0, 0, 0.3));\n",
              "      fill: #FFFFFF;\n",
              "    }\n",
              "  </style>\n",
              "\n",
              "    <script>\n",
              "      const buttonEl =\n",
              "        document.querySelector('#df-2f55ad75-5d1d-4f8d-9ecc-5cfa22a8003c button.colab-df-convert');\n",
              "      buttonEl.style.display =\n",
              "        google.colab.kernel.accessAllowed ? 'block' : 'none';\n",
              "\n",
              "      async function convertToInteractive(key) {\n",
              "        const element = document.querySelector('#df-2f55ad75-5d1d-4f8d-9ecc-5cfa22a8003c');\n",
              "        const dataTable =\n",
              "          await google.colab.kernel.invokeFunction('convertToInteractive',\n",
              "                                                    [key], {});\n",
              "        if (!dataTable) return;\n",
              "\n",
              "        const docLinkHtml = 'Like what you see? Visit the ' +\n",
              "          '<a target=\"_blank\" href=https://colab.research.google.com/notebooks/data_table.ipynb>data table notebook</a>'\n",
              "          + ' to learn more about interactive tables.';\n",
              "        element.innerHTML = '';\n",
              "        dataTable['output_type'] = 'display_data';\n",
              "        await google.colab.output.renderOutput(dataTable, element);\n",
              "        const docLink = document.createElement('div');\n",
              "        docLink.innerHTML = docLinkHtml;\n",
              "        element.appendChild(docLink);\n",
              "      }\n",
              "    </script>\n",
              "  </div>\n",
              "\n",
              "\n",
              "<div id=\"df-c6464ba4-db22-49e7-b8b2-abbbe452597c\">\n",
              "  <button class=\"colab-df-quickchart\" onclick=\"quickchart('df-c6464ba4-db22-49e7-b8b2-abbbe452597c')\"\n",
              "            title=\"Suggest charts\"\n",
              "            style=\"display:none;\">\n",
              "\n",
              "<svg xmlns=\"http://www.w3.org/2000/svg\" height=\"24px\"viewBox=\"0 0 24 24\"\n",
              "     width=\"24px\">\n",
              "    <g>\n",
              "        <path d=\"M19 3H5c-1.1 0-2 .9-2 2v14c0 1.1.9 2 2 2h14c1.1 0 2-.9 2-2V5c0-1.1-.9-2-2-2zM9 17H7v-7h2v7zm4 0h-2V7h2v10zm4 0h-2v-4h2v4z\"/>\n",
              "    </g>\n",
              "</svg>\n",
              "  </button>\n",
              "\n",
              "<style>\n",
              "  .colab-df-quickchart {\n",
              "      --bg-color: #E8F0FE;\n",
              "      --fill-color: #1967D2;\n",
              "      --hover-bg-color: #E2EBFA;\n",
              "      --hover-fill-color: #174EA6;\n",
              "      --disabled-fill-color: #AAA;\n",
              "      --disabled-bg-color: #DDD;\n",
              "  }\n",
              "\n",
              "  [theme=dark] .colab-df-quickchart {\n",
              "      --bg-color: #3B4455;\n",
              "      --fill-color: #D2E3FC;\n",
              "      --hover-bg-color: #434B5C;\n",
              "      --hover-fill-color: #FFFFFF;\n",
              "      --disabled-bg-color: #3B4455;\n",
              "      --disabled-fill-color: #666;\n",
              "  }\n",
              "\n",
              "  .colab-df-quickchart {\n",
              "    background-color: var(--bg-color);\n",
              "    border: none;\n",
              "    border-radius: 50%;\n",
              "    cursor: pointer;\n",
              "    display: none;\n",
              "    fill: var(--fill-color);\n",
              "    height: 32px;\n",
              "    padding: 0;\n",
              "    width: 32px;\n",
              "  }\n",
              "\n",
              "  .colab-df-quickchart:hover {\n",
              "    background-color: var(--hover-bg-color);\n",
              "    box-shadow: 0 1px 2px rgba(60, 64, 67, 0.3), 0 1px 3px 1px rgba(60, 64, 67, 0.15);\n",
              "    fill: var(--button-hover-fill-color);\n",
              "  }\n",
              "\n",
              "  .colab-df-quickchart-complete:disabled,\n",
              "  .colab-df-quickchart-complete:disabled:hover {\n",
              "    background-color: var(--disabled-bg-color);\n",
              "    fill: var(--disabled-fill-color);\n",
              "    box-shadow: none;\n",
              "  }\n",
              "\n",
              "  .colab-df-spinner {\n",
              "    border: 2px solid var(--fill-color);\n",
              "    border-color: transparent;\n",
              "    border-bottom-color: var(--fill-color);\n",
              "    animation:\n",
              "      spin 1s steps(1) infinite;\n",
              "  }\n",
              "\n",
              "  @keyframes spin {\n",
              "    0% {\n",
              "      border-color: transparent;\n",
              "      border-bottom-color: var(--fill-color);\n",
              "      border-left-color: var(--fill-color);\n",
              "    }\n",
              "    20% {\n",
              "      border-color: transparent;\n",
              "      border-left-color: var(--fill-color);\n",
              "      border-top-color: var(--fill-color);\n",
              "    }\n",
              "    30% {\n",
              "      border-color: transparent;\n",
              "      border-left-color: var(--fill-color);\n",
              "      border-top-color: var(--fill-color);\n",
              "      border-right-color: var(--fill-color);\n",
              "    }\n",
              "    40% {\n",
              "      border-color: transparent;\n",
              "      border-right-color: var(--fill-color);\n",
              "      border-top-color: var(--fill-color);\n",
              "    }\n",
              "    60% {\n",
              "      border-color: transparent;\n",
              "      border-right-color: var(--fill-color);\n",
              "    }\n",
              "    80% {\n",
              "      border-color: transparent;\n",
              "      border-right-color: var(--fill-color);\n",
              "      border-bottom-color: var(--fill-color);\n",
              "    }\n",
              "    90% {\n",
              "      border-color: transparent;\n",
              "      border-bottom-color: var(--fill-color);\n",
              "    }\n",
              "  }\n",
              "</style>\n",
              "\n",
              "  <script>\n",
              "    async function quickchart(key) {\n",
              "      const quickchartButtonEl =\n",
              "        document.querySelector('#' + key + ' button');\n",
              "      quickchartButtonEl.disabled = true;  // To prevent multiple clicks.\n",
              "      quickchartButtonEl.classList.add('colab-df-spinner');\n",
              "      try {\n",
              "        const charts = await google.colab.kernel.invokeFunction(\n",
              "            'suggestCharts', [key], {});\n",
              "      } catch (error) {\n",
              "        console.error('Error during call to suggestCharts:', error);\n",
              "      }\n",
              "      quickchartButtonEl.classList.remove('colab-df-spinner');\n",
              "      quickchartButtonEl.classList.add('colab-df-quickchart-complete');\n",
              "    }\n",
              "    (() => {\n",
              "      let quickchartButtonEl =\n",
              "        document.querySelector('#df-c6464ba4-db22-49e7-b8b2-abbbe452597c button');\n",
              "      quickchartButtonEl.style.display =\n",
              "        google.colab.kernel.accessAllowed ? 'block' : 'none';\n",
              "    })();\n",
              "  </script>\n",
              "</div>\n",
              "\n",
              "  <div id=\"id_ca8e4918-6cdd-463f-b5a0-8d9cf0bc4cf9\">\n",
              "    <style>\n",
              "      .colab-df-generate {\n",
              "        background-color: #E8F0FE;\n",
              "        border: none;\n",
              "        border-radius: 50%;\n",
              "        cursor: pointer;\n",
              "        display: none;\n",
              "        fill: #1967D2;\n",
              "        height: 32px;\n",
              "        padding: 0 0 0 0;\n",
              "        width: 32px;\n",
              "      }\n",
              "\n",
              "      .colab-df-generate:hover {\n",
              "        background-color: #E2EBFA;\n",
              "        box-shadow: 0px 1px 2px rgba(60, 64, 67, 0.3), 0px 1px 3px 1px rgba(60, 64, 67, 0.15);\n",
              "        fill: #174EA6;\n",
              "      }\n",
              "\n",
              "      [theme=dark] .colab-df-generate {\n",
              "        background-color: #3B4455;\n",
              "        fill: #D2E3FC;\n",
              "      }\n",
              "\n",
              "      [theme=dark] .colab-df-generate:hover {\n",
              "        background-color: #434B5C;\n",
              "        box-shadow: 0px 1px 3px 1px rgba(0, 0, 0, 0.15);\n",
              "        filter: drop-shadow(0px 1px 2px rgba(0, 0, 0, 0.3));\n",
              "        fill: #FFFFFF;\n",
              "      }\n",
              "    </style>\n",
              "    <button class=\"colab-df-generate\" onclick=\"generateWithVariable('df')\"\n",
              "            title=\"Generate code using this dataframe.\"\n",
              "            style=\"display:none;\">\n",
              "\n",
              "  <svg xmlns=\"http://www.w3.org/2000/svg\" height=\"24px\"viewBox=\"0 0 24 24\"\n",
              "       width=\"24px\">\n",
              "    <path d=\"M7,19H8.4L18.45,9,17,7.55,7,17.6ZM5,21V16.75L18.45,3.32a2,2,0,0,1,2.83,0l1.4,1.43a1.91,1.91,0,0,1,.58,1.4,1.91,1.91,0,0,1-.58,1.4L9.25,21ZM18.45,9,17,7.55Zm-12,3A5.31,5.31,0,0,0,4.9,8.1,5.31,5.31,0,0,0,1,6.5,5.31,5.31,0,0,0,4.9,4.9,5.31,5.31,0,0,0,6.5,1,5.31,5.31,0,0,0,8.1,4.9,5.31,5.31,0,0,0,12,6.5,5.46,5.46,0,0,0,6.5,12Z\"/>\n",
              "  </svg>\n",
              "    </button>\n",
              "    <script>\n",
              "      (() => {\n",
              "      const buttonEl =\n",
              "        document.querySelector('#id_ca8e4918-6cdd-463f-b5a0-8d9cf0bc4cf9 button.colab-df-generate');\n",
              "      buttonEl.style.display =\n",
              "        google.colab.kernel.accessAllowed ? 'block' : 'none';\n",
              "\n",
              "      buttonEl.onclick = () => {\n",
              "        google.colab.notebook.generateWithVariable('df');\n",
              "      }\n",
              "      })();\n",
              "    </script>\n",
              "  </div>\n",
              "\n",
              "    </div>\n",
              "  </div>\n"
            ],
            "application/vnd.google.colaboratory.intrinsic+json": {
              "type": "dataframe",
              "variable_name": "df",
              "summary": "{\n  \"name\": \"df\",\n  \"rows\": 6,\n  \"fields\": [\n    {\n      \"column\": \"A\",\n      \"properties\": {\n        \"dtype\": \"number\",\n        \"std\": 2,\n        \"min\": 0,\n        \"max\": 6,\n        \"num_unique_values\": 5,\n        \"samples\": [\n          2,\n          6,\n          0\n        ],\n        \"semantic_type\": \"\",\n        \"description\": \"\"\n      }\n    },\n    {\n      \"column\": \"B\",\n      \"properties\": {\n        \"dtype\": \"number\",\n        \"std\": 2,\n        \"min\": 0,\n        \"max\": 7,\n        \"num_unique_values\": 3,\n        \"samples\": [\n          3,\n          0,\n          7\n        ],\n        \"semantic_type\": \"\",\n        \"description\": \"\"\n      }\n    },\n    {\n      \"column\": \"C\",\n      \"properties\": {\n        \"dtype\": \"number\",\n        \"std\": 2,\n        \"min\": 0,\n        \"max\": 6,\n        \"num_unique_values\": 4,\n        \"samples\": [\n          5,\n          4,\n          0\n        ],\n        \"semantic_type\": \"\",\n        \"description\": \"\"\n      }\n    }\n  ]\n}"
            }
          },
          "metadata": {},
          "execution_count": 19
        }
      ]
    },
    {
      "cell_type": "markdown",
      "source": [
        "## 26.) Access the 3rd element from the given NumPy array.\n",
        "\n",
        "arr = np.array([10, 20, 30, 40, 50])"
      ],
      "metadata": {
        "id": "n8rqO0ycGRd1"
      }
    },
    {
      "cell_type": "code",
      "source": [
        "import numpy as np\n",
        "arr = np.array([10, 20, 30, 40, 50])\n",
        "print(arr[2])"
      ],
      "metadata": {
        "colab": {
          "base_uri": "https://localhost:8080/"
        },
        "id": "O50HivS7Gd_O",
        "outputId": "a4041706-9aaa-44c3-ec22-da8a95540929"
      },
      "execution_count": null,
      "outputs": [
        {
          "output_type": "stream",
          "name": "stdout",
          "text": [
            "30\n"
          ]
        }
      ]
    },
    {
      "cell_type": "markdown",
      "source": [
        "## 27.) Retrieve the element at index (1, 2) from the 2D NumPy array.\n",
        "\n",
        "arr = np.array([[1,2,3],[4,5,6],[7,8,9]])"
      ],
      "metadata": {
        "id": "RUvMNNr1G-Ix"
      }
    },
    {
      "cell_type": "code",
      "source": [
        "import numpy as np\n",
        "arr = np.array([[1,2,3],[4,5,6],[7,8,9]])\n",
        "print(arr[1][2])"
      ],
      "metadata": {
        "colab": {
          "base_uri": "https://localhost:8080/"
        },
        "id": "-pFqeNFrHXTs",
        "outputId": "24f91777-5324-434e-d4ef-5fa1881b238c"
      },
      "execution_count": null,
      "outputs": [
        {
          "output_type": "stream",
          "name": "stdout",
          "text": [
            "6\n"
          ]
        }
      ]
    },
    {
      "cell_type": "markdown",
      "source": [
        "## 28.) Using boolean indexing, extract elements greater than 5 from the given NumPy array.\n",
        "arr = np.array([3, 8, 2, 10, 5, 7])"
      ],
      "metadata": {
        "id": "ZwqpjT9kKF1O"
      }
    },
    {
      "cell_type": "code",
      "source": [
        "import numpy as np\n",
        "\n",
        "arr = np.array([3, 8, 2, 10, 5, 7])\n",
        "new_arr = arr[arr>5]\n",
        "print(new_arr)"
      ],
      "metadata": {
        "colab": {
          "base_uri": "https://localhost:8080/"
        },
        "id": "wX2UVuUHH3Lg",
        "outputId": "3caee889-8346-43db-f214-c1eb5534a261"
      },
      "execution_count": null,
      "outputs": [
        {
          "output_type": "stream",
          "name": "stdout",
          "text": [
            "[ 8 10  7]\n"
          ]
        }
      ]
    },
    {
      "cell_type": "markdown",
      "source": [
        "## 29.) Perform basic slicing to extract elements from index 2 to 5 (inclusive) from the given NumPy array\n",
        "\n",
        "arr = np.array([1, 2, 3, 4, 5, 6, 7, 8, 9])"
      ],
      "metadata": {
        "id": "At3roywjKh2r"
      }
    },
    {
      "cell_type": "code",
      "source": [
        "import numpy as np\n",
        "\n",
        "arr = np.array([1, 2, 3, 4, 5, 6, 7, 8, 9])\n",
        "arr_subset = arr[2:6]\n",
        "print(arr_subset)"
      ],
      "metadata": {
        "colab": {
          "base_uri": "https://localhost:8080/"
        },
        "id": "I8D3VecrKwmq",
        "outputId": "cb2a1605-3022-4adb-9364-2ad1cb623661"
      },
      "execution_count": null,
      "outputs": [
        {
          "output_type": "stream",
          "name": "stdout",
          "text": [
            "[3 4 5 6]\n"
          ]
        }
      ]
    },
    {
      "cell_type": "markdown",
      "source": [
        "## 30.) Slice the 2D NumPy array to extract the sub-array `[[2, 3], [5, 6]]` from the given array.\n",
        "\n",
        "arr_2d = np.array([[1,2,3],[4,5,6],[7,8,9]])"
      ],
      "metadata": {
        "id": "FMlaL1SfLUKZ"
      }
    },
    {
      "cell_type": "code",
      "source": [
        "import numpy as np\n",
        "\n",
        "arr_2d = np.array([[1,2,3],[4,5,6],[7,8,9]])\n",
        "print(\"Orignal Array:-\")\n",
        "print(arr_2d)\n",
        "\n",
        "subarray = arr_2d[:2,1:]\n",
        "print(\"\\nSub_array:-\")\n",
        "print(subarray)"
      ],
      "metadata": {
        "colab": {
          "base_uri": "https://localhost:8080/"
        },
        "id": "BR5SYQGmLsUt",
        "outputId": "e01e248e-686c-4cb8-8673-b34d75c23a06"
      },
      "execution_count": null,
      "outputs": [
        {
          "output_type": "stream",
          "name": "stdout",
          "text": [
            "Orignal Array:-\n",
            "[[1 2 3]\n",
            " [4 5 6]\n",
            " [7 8 9]]\n",
            "\n",
            "Sub_array:-\n",
            "[[2 3]\n",
            " [5 6]]\n"
          ]
        }
      ]
    },
    {
      "cell_type": "markdown",
      "source": [
        "## 31.) Write a NumPy function to extract elements in specific order from a given 2D array based on indices provided in another array."
      ],
      "metadata": {
        "id": "nghLqES2KniG"
      }
    },
    {
      "cell_type": "code",
      "source": [
        "import numpy as np\n",
        "arr1 = np.arange(1,17).reshape(4,4)\n",
        "print(arr1)\n",
        "\n",
        "arr2= np.arange(1,9).reshape(4,2)\n",
        "arr2_indices = np.where(arr2)\n",
        "print(arr2_indices)\n",
        "\n",
        "arr3 = arr1[arr2_indices].reshape(4,2)\n",
        "print(arr3)"
      ],
      "metadata": {
        "id": "1ds9t1kWNMI4",
        "colab": {
          "base_uri": "https://localhost:8080/"
        },
        "outputId": "bf31f634-7d1b-466c-8d0e-2fab2878160c"
      },
      "execution_count": null,
      "outputs": [
        {
          "output_type": "stream",
          "name": "stdout",
          "text": [
            "[[ 1  2  3  4]\n",
            " [ 5  6  7  8]\n",
            " [ 9 10 11 12]\n",
            " [13 14 15 16]]\n",
            "(array([0, 0, 1, 1, 2, 2, 3, 3]), array([0, 1, 0, 1, 0, 1, 0, 1]))\n",
            "[[ 1  2]\n",
            " [ 5  6]\n",
            " [ 9 10]\n",
            " [13 14]]\n"
          ]
        }
      ]
    },
    {
      "cell_type": "markdown",
      "source": [
        "## 32.) Create a NumPy function that filters elements greater than a threshold from a given 1D array using boolean indexing."
      ],
      "metadata": {
        "id": "LEnV7kU3NE1C"
      }
    },
    {
      "cell_type": "code",
      "source": [
        "import numpy as np\n",
        "def greater_element(x,n):\n",
        "  x_new = x[x>n]\n",
        "  return x_new\n",
        "\n",
        "x = np.array([5,7,8,9,4,6,5,10,1,12,2])\n",
        "greater_element(x,9)"
      ],
      "metadata": {
        "colab": {
          "base_uri": "https://localhost:8080/"
        },
        "id": "1v0zuxunNK51",
        "outputId": "91f78330-8f17-449d-f40d-6a84ad3482f6"
      },
      "execution_count": null,
      "outputs": [
        {
          "output_type": "execute_result",
          "data": {
            "text/plain": [
              "array([10, 12])"
            ]
          },
          "metadata": {},
          "execution_count": 34
        }
      ]
    },
    {
      "cell_type": "markdown",
      "source": [
        "## 33.) Develop a NumPy function that extracts specific elements from a 3D array using indices provided in three separate arrays for each dimension."
      ],
      "metadata": {
        "id": "K-CVdbrANMx6"
      }
    },
    {
      "cell_type": "code",
      "source": [
        "import numpy as np\n",
        "ar_3d = np.array([[[1,2],[3,4]],[[5,6],[7,8]]])\n",
        "\n",
        "print(ar_3d)\n",
        "print(\"Dimension of array:\",ar_3d.ndim)\n",
        "print(\"shape:\",ar_3d.shape)\n",
        "\n",
        "# Extract 6  from above 3d array\n",
        "print(\"extracted element:\",ar_3d[1,0,1])"
      ],
      "metadata": {
        "colab": {
          "base_uri": "https://localhost:8080/"
        },
        "id": "pZ4M4u4uNR8z",
        "outputId": "2ac51a47-4378-475a-99a5-e10fb32ded52"
      },
      "execution_count": null,
      "outputs": [
        {
          "output_type": "stream",
          "name": "stdout",
          "text": [
            "[[[1 2]\n",
            "  [3 4]]\n",
            "\n",
            " [[5 6]\n",
            "  [7 8]]]\n",
            "Dimension of array: 3\n",
            "shape: (2, 2, 2)\n",
            "extracted element: 6\n"
          ]
        }
      ]
    },
    {
      "cell_type": "markdown",
      "source": [
        "## 34.) Write a NumPy function that returns elements from an array where both two conditions are satisfied using boolean indexing."
      ],
      "metadata": {
        "id": "eowg9FbKNgyD"
      }
    },
    {
      "cell_type": "code",
      "source": [
        "import numpy as np\n",
        "x = np.array([3,4,7,8,9,10,15,18,20])\n",
        "mask1 = x>5\n",
        "mask2 = x<10\n",
        "print(x[mask1 & mask2])\n"
      ],
      "metadata": {
        "colab": {
          "base_uri": "https://localhost:8080/"
        },
        "id": "DfTrYdN8NkoI",
        "outputId": "69468729-1f66-4bac-bd78-a65a4ee8dde8"
      },
      "execution_count": null,
      "outputs": [
        {
          "output_type": "stream",
          "name": "stdout",
          "text": [
            "[7 8 9]\n"
          ]
        }
      ]
    },
    {
      "cell_type": "markdown",
      "source": [
        "## 35.) Create a NumPy function that extracts elements from a 2D array using row and column indices provided in separate arrays."
      ],
      "metadata": {
        "id": "ZZIPy3Z3NlEp"
      }
    },
    {
      "cell_type": "code",
      "source": [
        "import numpy as np\n",
        "ar1 = np.array([[1,2,3],\n",
        "                [4,5,6],\n",
        "                [7,8,9]])\n",
        "\n",
        "ar2 = np.array([[1,2],[3,4]])\n",
        "\n",
        "mask = np.where(ar2)\n",
        "result = ar1[mask]\n",
        "\n",
        "print(result)"
      ],
      "metadata": {
        "id": "6ZunVKNwNrA_",
        "colab": {
          "base_uri": "https://localhost:8080/"
        },
        "outputId": "132ea769-d9bc-4126-fecc-cbda9d153c79"
      },
      "execution_count": null,
      "outputs": [
        {
          "output_type": "stream",
          "name": "stdout",
          "text": [
            "[1 2 4 5]\n"
          ]
        }
      ]
    },
    {
      "cell_type": "markdown",
      "source": [
        "## 36.) Given an array arr of shape (3, 3), add a scalar value of 5 to each element using NumPy broadcasting."
      ],
      "metadata": {
        "id": "d3nbqJqFNsl9"
      }
    },
    {
      "cell_type": "code",
      "source": [
        "import numpy as np\n",
        "arr = np.array([[1,2,3],\n",
        "                [4,5,6],\n",
        "                [7,8,9]])\n",
        "arr_new = arr + 5\n",
        "print(arr_new)"
      ],
      "metadata": {
        "id": "DKRMHohyN3vw",
        "colab": {
          "base_uri": "https://localhost:8080/"
        },
        "outputId": "c63535f6-784a-4718-fe8d-9fcd67e7d9ba"
      },
      "execution_count": null,
      "outputs": [
        {
          "output_type": "stream",
          "name": "stdout",
          "text": [
            "[[ 6  7  8]\n",
            " [ 9 10 11]\n",
            " [12 13 14]]\n"
          ]
        }
      ]
    },
    {
      "cell_type": "markdown",
      "source": [
        "## 37.) Consider two arrays arr1 of shape (1, 3) and arr2 of shape (3, 4). Multiply each row of arr2 by the corresponding element in arr1 using NumPy broadcasting."
      ],
      "metadata": {
        "id": "tp2paIOrN4rV"
      }
    },
    {
      "cell_type": "code",
      "source": [
        "import numpy as np\n",
        "ar1 = np.array([1,2,3])\n",
        "ar2 = np.array([[1,2,3,4],\n",
        "                [5,6,7,8],\n",
        "                [9,10,11,12]])\n",
        "result = ar2*ar1.reshape(3,1)\n",
        "print(result)"
      ],
      "metadata": {
        "id": "jynggiJ4OjHR",
        "colab": {
          "base_uri": "https://localhost:8080/"
        },
        "outputId": "07f1fb3d-7391-42d8-e2c2-1570f20f1b0e"
      },
      "execution_count": null,
      "outputs": [
        {
          "output_type": "stream",
          "name": "stdout",
          "text": [
            "[[ 1  2  3  4]\n",
            " [10 12 14 16]\n",
            " [27 30 33 36]]\n"
          ]
        }
      ]
    },
    {
      "cell_type": "markdown",
      "source": [
        "## 38.) Given a 1D array arr1 of shape (1, 4) and a 2D array arr2 of shape (4, 3), add arr1 to each row of arr2 using NumPy broadcasting."
      ],
      "metadata": {
        "id": "jJbz1PgqOBjE"
      }
    },
    {
      "cell_type": "code",
      "source": [
        "import numpy as np\n",
        "ar1 = np.array([10,20,30,40])\n",
        "ar2 = np.array([[1,2,3],\n",
        "                [5,6,7],\n",
        "                [9,10,11],\n",
        "                [13,14,15]])\n",
        "result = ar2 + ar1.reshape(4,1)\n",
        "print(result)"
      ],
      "metadata": {
        "id": "Mp3sPg6uOhoB",
        "colab": {
          "base_uri": "https://localhost:8080/"
        },
        "outputId": "cfa4aa85-da6b-4cc3-e416-d0805acb5160"
      },
      "execution_count": null,
      "outputs": [
        {
          "output_type": "stream",
          "name": "stdout",
          "text": [
            "[[11 12 13]\n",
            " [25 26 27]\n",
            " [39 40 41]\n",
            " [53 54 55]]\n"
          ]
        }
      ]
    },
    {
      "cell_type": "markdown",
      "source": [
        "## 39.) Consider two arrays arr1 of shape (3, 1) and arr2 of shape (1, 3). Add these arrays using NumPy broadcasting."
      ],
      "metadata": {
        "id": "zvN-enPtOM_p"
      }
    },
    {
      "cell_type": "code",
      "source": [
        "import numpy as np\n",
        "arr1 = np.array([[5],[10],[15]])\n",
        "arr2 = np.array([[10,20,30]])\n",
        "add = arr1 + arr2\n",
        "print(add)"
      ],
      "metadata": {
        "id": "aaPs4bJfOg9R",
        "colab": {
          "base_uri": "https://localhost:8080/"
        },
        "outputId": "aff6bd5c-57b8-4fd0-a102-da4497a0d3d9"
      },
      "execution_count": null,
      "outputs": [
        {
          "output_type": "stream",
          "name": "stdout",
          "text": [
            "[[15 25 35]\n",
            " [20 30 40]\n",
            " [25 35 45]]\n"
          ]
        }
      ]
    },
    {
      "cell_type": "markdown",
      "source": [
        "## 40.) Given arrays arr1 of shape (2, 3) and arr2 of shape (2, 2), perform multiplication using NumPy broadcasting. Handle the shape incompatibility."
      ],
      "metadata": {
        "id": "QGK9FMPVOQ6D"
      }
    },
    {
      "cell_type": "code",
      "source": [
        "import numpy as np\n",
        "arr1 = np.array([[1,2,3],[4,5,6]])\n",
        "arr2 = np.array([[1,2],[1,2]])\n",
        "\n",
        "\n",
        "# confusion"
      ],
      "metadata": {
        "id": "hA0Kb--lOZx6"
      },
      "execution_count": null,
      "outputs": []
    },
    {
      "cell_type": "markdown",
      "source": [
        "## 41.) Calculate column wise mean for the given array\n",
        "\n",
        "arr = np.array([[1, 2, 3], [4, 5, 6]])"
      ],
      "metadata": {
        "id": "i6ohzp5FaNxP"
      }
    },
    {
      "cell_type": "code",
      "source": [
        "import numpy as np\n",
        "\n",
        "arr = np.array([[1, 2, 3], [4, 5, 6]])\n",
        "print(\"the mean of given array column wise:-\")\n",
        "print(arr.mean(axis=0))"
      ],
      "metadata": {
        "colab": {
          "base_uri": "https://localhost:8080/"
        },
        "id": "yZHewtmeaQhw",
        "outputId": "690c61d4-35b9-40b3-a171-760507c3c729"
      },
      "execution_count": null,
      "outputs": [
        {
          "output_type": "stream",
          "name": "stdout",
          "text": [
            "the mean of given array column wise:-\n",
            "[2.5 3.5 4.5]\n"
          ]
        }
      ]
    },
    {
      "cell_type": "markdown",
      "source": [
        "## 42.) Find maximum value in each row of the given array:\n",
        "\n",
        "arr = np.array([[1, 2, 3], [4, 5, 6]])"
      ],
      "metadata": {
        "id": "de4nAnBqabnh"
      }
    },
    {
      "cell_type": "code",
      "source": [
        "import numpy as np\n",
        "\n",
        "arr = np.array([[1, 2, 3], [4, 5, 6]])\n",
        "print(\"Maximum value in each rows:\")\n",
        "print(arr.max(axis =1))"
      ],
      "metadata": {
        "colab": {
          "base_uri": "https://localhost:8080/"
        },
        "id": "HZLFMxhPatm9",
        "outputId": "949870d0-6e6b-451b-a705-e886988e088b"
      },
      "execution_count": null,
      "outputs": [
        {
          "output_type": "stream",
          "name": "stdout",
          "text": [
            "Maximum value in each rows:\n",
            "[3 6]\n"
          ]
        }
      ]
    },
    {
      "cell_type": "markdown",
      "source": [
        "## 43.) For the given array, find indices of maximum value in each column."
      ],
      "metadata": {
        "id": "I4kX-zSBa1UU"
      }
    },
    {
      "cell_type": "code",
      "source": [
        "import numpy as np\n",
        "\n",
        "arr = np.array([[1, 12, 3], [4, 5, 6]])\n",
        "print(\"Indices of maximum value in each column:\")\n",
        "print(arr.argmax(axis =0))"
      ],
      "metadata": {
        "colab": {
          "base_uri": "https://localhost:8080/"
        },
        "id": "COhHCfOqcPaP",
        "outputId": "5794f0e6-ba01-47f7-95de-1702849a898b"
      },
      "execution_count": null,
      "outputs": [
        {
          "output_type": "stream",
          "name": "stdout",
          "text": [
            "Indices of maximum value in each column:\n",
            "[1 0 1]\n"
          ]
        }
      ]
    },
    {
      "cell_type": "markdown",
      "source": [
        "## 44.) For the given array, apply custom function to calculate moving sum along rows."
      ],
      "metadata": {
        "id": "le8UOYWna5Uq"
      }
    },
    {
      "cell_type": "code",
      "source": [
        "import numpy as np\n",
        "import pandas as pd\n",
        "\n",
        "arr = np.array([[1, 2, 3], [4, 5, 6]])\n",
        "df = pd.DataFrame((arr))\n",
        "df\n",
        "\n"
      ],
      "metadata": {
        "colab": {
          "base_uri": "https://localhost:8080/",
          "height": 125
        },
        "id": "NWTuonTrdrqM",
        "outputId": "04df0219-50b0-4267-f033-eb829922c293"
      },
      "execution_count": null,
      "outputs": [
        {
          "output_type": "execute_result",
          "data": {
            "text/plain": [
              "   0  1  2\n",
              "0  1  2  3\n",
              "1  4  5  6"
            ],
            "text/html": [
              "\n",
              "  <div id=\"df-feb2ec8b-1209-4a98-a9b1-8a4ccac6896a\" class=\"colab-df-container\">\n",
              "    <div>\n",
              "<style scoped>\n",
              "    .dataframe tbody tr th:only-of-type {\n",
              "        vertical-align: middle;\n",
              "    }\n",
              "\n",
              "    .dataframe tbody tr th {\n",
              "        vertical-align: top;\n",
              "    }\n",
              "\n",
              "    .dataframe thead th {\n",
              "        text-align: right;\n",
              "    }\n",
              "</style>\n",
              "<table border=\"1\" class=\"dataframe\">\n",
              "  <thead>\n",
              "    <tr style=\"text-align: right;\">\n",
              "      <th></th>\n",
              "      <th>0</th>\n",
              "      <th>1</th>\n",
              "      <th>2</th>\n",
              "    </tr>\n",
              "  </thead>\n",
              "  <tbody>\n",
              "    <tr>\n",
              "      <th>0</th>\n",
              "      <td>1</td>\n",
              "      <td>2</td>\n",
              "      <td>3</td>\n",
              "    </tr>\n",
              "    <tr>\n",
              "      <th>1</th>\n",
              "      <td>4</td>\n",
              "      <td>5</td>\n",
              "      <td>6</td>\n",
              "    </tr>\n",
              "  </tbody>\n",
              "</table>\n",
              "</div>\n",
              "    <div class=\"colab-df-buttons\">\n",
              "\n",
              "  <div class=\"colab-df-container\">\n",
              "    <button class=\"colab-df-convert\" onclick=\"convertToInteractive('df-feb2ec8b-1209-4a98-a9b1-8a4ccac6896a')\"\n",
              "            title=\"Convert this dataframe to an interactive table.\"\n",
              "            style=\"display:none;\">\n",
              "\n",
              "  <svg xmlns=\"http://www.w3.org/2000/svg\" height=\"24px\" viewBox=\"0 -960 960 960\">\n",
              "    <path d=\"M120-120v-720h720v720H120Zm60-500h600v-160H180v160Zm220 220h160v-160H400v160Zm0 220h160v-160H400v160ZM180-400h160v-160H180v160Zm440 0h160v-160H620v160ZM180-180h160v-160H180v160Zm440 0h160v-160H620v160Z\"/>\n",
              "  </svg>\n",
              "    </button>\n",
              "\n",
              "  <style>\n",
              "    .colab-df-container {\n",
              "      display:flex;\n",
              "      gap: 12px;\n",
              "    }\n",
              "\n",
              "    .colab-df-convert {\n",
              "      background-color: #E8F0FE;\n",
              "      border: none;\n",
              "      border-radius: 50%;\n",
              "      cursor: pointer;\n",
              "      display: none;\n",
              "      fill: #1967D2;\n",
              "      height: 32px;\n",
              "      padding: 0 0 0 0;\n",
              "      width: 32px;\n",
              "    }\n",
              "\n",
              "    .colab-df-convert:hover {\n",
              "      background-color: #E2EBFA;\n",
              "      box-shadow: 0px 1px 2px rgba(60, 64, 67, 0.3), 0px 1px 3px 1px rgba(60, 64, 67, 0.15);\n",
              "      fill: #174EA6;\n",
              "    }\n",
              "\n",
              "    .colab-df-buttons div {\n",
              "      margin-bottom: 4px;\n",
              "    }\n",
              "\n",
              "    [theme=dark] .colab-df-convert {\n",
              "      background-color: #3B4455;\n",
              "      fill: #D2E3FC;\n",
              "    }\n",
              "\n",
              "    [theme=dark] .colab-df-convert:hover {\n",
              "      background-color: #434B5C;\n",
              "      box-shadow: 0px 1px 3px 1px rgba(0, 0, 0, 0.15);\n",
              "      filter: drop-shadow(0px 1px 2px rgba(0, 0, 0, 0.3));\n",
              "      fill: #FFFFFF;\n",
              "    }\n",
              "  </style>\n",
              "\n",
              "    <script>\n",
              "      const buttonEl =\n",
              "        document.querySelector('#df-feb2ec8b-1209-4a98-a9b1-8a4ccac6896a button.colab-df-convert');\n",
              "      buttonEl.style.display =\n",
              "        google.colab.kernel.accessAllowed ? 'block' : 'none';\n",
              "\n",
              "      async function convertToInteractive(key) {\n",
              "        const element = document.querySelector('#df-feb2ec8b-1209-4a98-a9b1-8a4ccac6896a');\n",
              "        const dataTable =\n",
              "          await google.colab.kernel.invokeFunction('convertToInteractive',\n",
              "                                                    [key], {});\n",
              "        if (!dataTable) return;\n",
              "\n",
              "        const docLinkHtml = 'Like what you see? Visit the ' +\n",
              "          '<a target=\"_blank\" href=https://colab.research.google.com/notebooks/data_table.ipynb>data table notebook</a>'\n",
              "          + ' to learn more about interactive tables.';\n",
              "        element.innerHTML = '';\n",
              "        dataTable['output_type'] = 'display_data';\n",
              "        await google.colab.output.renderOutput(dataTable, element);\n",
              "        const docLink = document.createElement('div');\n",
              "        docLink.innerHTML = docLinkHtml;\n",
              "        element.appendChild(docLink);\n",
              "      }\n",
              "    </script>\n",
              "  </div>\n",
              "\n",
              "\n",
              "<div id=\"df-ed02f49e-10b0-410f-9968-2b1d5a9ee000\">\n",
              "  <button class=\"colab-df-quickchart\" onclick=\"quickchart('df-ed02f49e-10b0-410f-9968-2b1d5a9ee000')\"\n",
              "            title=\"Suggest charts\"\n",
              "            style=\"display:none;\">\n",
              "\n",
              "<svg xmlns=\"http://www.w3.org/2000/svg\" height=\"24px\"viewBox=\"0 0 24 24\"\n",
              "     width=\"24px\">\n",
              "    <g>\n",
              "        <path d=\"M19 3H5c-1.1 0-2 .9-2 2v14c0 1.1.9 2 2 2h14c1.1 0 2-.9 2-2V5c0-1.1-.9-2-2-2zM9 17H7v-7h2v7zm4 0h-2V7h2v10zm4 0h-2v-4h2v4z\"/>\n",
              "    </g>\n",
              "</svg>\n",
              "  </button>\n",
              "\n",
              "<style>\n",
              "  .colab-df-quickchart {\n",
              "      --bg-color: #E8F0FE;\n",
              "      --fill-color: #1967D2;\n",
              "      --hover-bg-color: #E2EBFA;\n",
              "      --hover-fill-color: #174EA6;\n",
              "      --disabled-fill-color: #AAA;\n",
              "      --disabled-bg-color: #DDD;\n",
              "  }\n",
              "\n",
              "  [theme=dark] .colab-df-quickchart {\n",
              "      --bg-color: #3B4455;\n",
              "      --fill-color: #D2E3FC;\n",
              "      --hover-bg-color: #434B5C;\n",
              "      --hover-fill-color: #FFFFFF;\n",
              "      --disabled-bg-color: #3B4455;\n",
              "      --disabled-fill-color: #666;\n",
              "  }\n",
              "\n",
              "  .colab-df-quickchart {\n",
              "    background-color: var(--bg-color);\n",
              "    border: none;\n",
              "    border-radius: 50%;\n",
              "    cursor: pointer;\n",
              "    display: none;\n",
              "    fill: var(--fill-color);\n",
              "    height: 32px;\n",
              "    padding: 0;\n",
              "    width: 32px;\n",
              "  }\n",
              "\n",
              "  .colab-df-quickchart:hover {\n",
              "    background-color: var(--hover-bg-color);\n",
              "    box-shadow: 0 1px 2px rgba(60, 64, 67, 0.3), 0 1px 3px 1px rgba(60, 64, 67, 0.15);\n",
              "    fill: var(--button-hover-fill-color);\n",
              "  }\n",
              "\n",
              "  .colab-df-quickchart-complete:disabled,\n",
              "  .colab-df-quickchart-complete:disabled:hover {\n",
              "    background-color: var(--disabled-bg-color);\n",
              "    fill: var(--disabled-fill-color);\n",
              "    box-shadow: none;\n",
              "  }\n",
              "\n",
              "  .colab-df-spinner {\n",
              "    border: 2px solid var(--fill-color);\n",
              "    border-color: transparent;\n",
              "    border-bottom-color: var(--fill-color);\n",
              "    animation:\n",
              "      spin 1s steps(1) infinite;\n",
              "  }\n",
              "\n",
              "  @keyframes spin {\n",
              "    0% {\n",
              "      border-color: transparent;\n",
              "      border-bottom-color: var(--fill-color);\n",
              "      border-left-color: var(--fill-color);\n",
              "    }\n",
              "    20% {\n",
              "      border-color: transparent;\n",
              "      border-left-color: var(--fill-color);\n",
              "      border-top-color: var(--fill-color);\n",
              "    }\n",
              "    30% {\n",
              "      border-color: transparent;\n",
              "      border-left-color: var(--fill-color);\n",
              "      border-top-color: var(--fill-color);\n",
              "      border-right-color: var(--fill-color);\n",
              "    }\n",
              "    40% {\n",
              "      border-color: transparent;\n",
              "      border-right-color: var(--fill-color);\n",
              "      border-top-color: var(--fill-color);\n",
              "    }\n",
              "    60% {\n",
              "      border-color: transparent;\n",
              "      border-right-color: var(--fill-color);\n",
              "    }\n",
              "    80% {\n",
              "      border-color: transparent;\n",
              "      border-right-color: var(--fill-color);\n",
              "      border-bottom-color: var(--fill-color);\n",
              "    }\n",
              "    90% {\n",
              "      border-color: transparent;\n",
              "      border-bottom-color: var(--fill-color);\n",
              "    }\n",
              "  }\n",
              "</style>\n",
              "\n",
              "  <script>\n",
              "    async function quickchart(key) {\n",
              "      const quickchartButtonEl =\n",
              "        document.querySelector('#' + key + ' button');\n",
              "      quickchartButtonEl.disabled = true;  // To prevent multiple clicks.\n",
              "      quickchartButtonEl.classList.add('colab-df-spinner');\n",
              "      try {\n",
              "        const charts = await google.colab.kernel.invokeFunction(\n",
              "            'suggestCharts', [key], {});\n",
              "      } catch (error) {\n",
              "        console.error('Error during call to suggestCharts:', error);\n",
              "      }\n",
              "      quickchartButtonEl.classList.remove('colab-df-spinner');\n",
              "      quickchartButtonEl.classList.add('colab-df-quickchart-complete');\n",
              "    }\n",
              "    (() => {\n",
              "      let quickchartButtonEl =\n",
              "        document.querySelector('#df-ed02f49e-10b0-410f-9968-2b1d5a9ee000 button');\n",
              "      quickchartButtonEl.style.display =\n",
              "        google.colab.kernel.accessAllowed ? 'block' : 'none';\n",
              "    })();\n",
              "  </script>\n",
              "</div>\n",
              "\n",
              "  <div id=\"id_b221ffea-e9ef-44d0-8f88-cfa7ea7c6cd7\">\n",
              "    <style>\n",
              "      .colab-df-generate {\n",
              "        background-color: #E8F0FE;\n",
              "        border: none;\n",
              "        border-radius: 50%;\n",
              "        cursor: pointer;\n",
              "        display: none;\n",
              "        fill: #1967D2;\n",
              "        height: 32px;\n",
              "        padding: 0 0 0 0;\n",
              "        width: 32px;\n",
              "      }\n",
              "\n",
              "      .colab-df-generate:hover {\n",
              "        background-color: #E2EBFA;\n",
              "        box-shadow: 0px 1px 2px rgba(60, 64, 67, 0.3), 0px 1px 3px 1px rgba(60, 64, 67, 0.15);\n",
              "        fill: #174EA6;\n",
              "      }\n",
              "\n",
              "      [theme=dark] .colab-df-generate {\n",
              "        background-color: #3B4455;\n",
              "        fill: #D2E3FC;\n",
              "      }\n",
              "\n",
              "      [theme=dark] .colab-df-generate:hover {\n",
              "        background-color: #434B5C;\n",
              "        box-shadow: 0px 1px 3px 1px rgba(0, 0, 0, 0.15);\n",
              "        filter: drop-shadow(0px 1px 2px rgba(0, 0, 0, 0.3));\n",
              "        fill: #FFFFFF;\n",
              "      }\n",
              "    </style>\n",
              "    <button class=\"colab-df-generate\" onclick=\"generateWithVariable('df')\"\n",
              "            title=\"Generate code using this dataframe.\"\n",
              "            style=\"display:none;\">\n",
              "\n",
              "  <svg xmlns=\"http://www.w3.org/2000/svg\" height=\"24px\"viewBox=\"0 0 24 24\"\n",
              "       width=\"24px\">\n",
              "    <path d=\"M7,19H8.4L18.45,9,17,7.55,7,17.6ZM5,21V16.75L18.45,3.32a2,2,0,0,1,2.83,0l1.4,1.43a1.91,1.91,0,0,1,.58,1.4,1.91,1.91,0,0,1-.58,1.4L9.25,21ZM18.45,9,17,7.55Zm-12,3A5.31,5.31,0,0,0,4.9,8.1,5.31,5.31,0,0,0,1,6.5,5.31,5.31,0,0,0,4.9,4.9,5.31,5.31,0,0,0,6.5,1,5.31,5.31,0,0,0,8.1,4.9,5.31,5.31,0,0,0,12,6.5,5.46,5.46,0,0,0,6.5,12Z\"/>\n",
              "  </svg>\n",
              "    </button>\n",
              "    <script>\n",
              "      (() => {\n",
              "      const buttonEl =\n",
              "        document.querySelector('#id_b221ffea-e9ef-44d0-8f88-cfa7ea7c6cd7 button.colab-df-generate');\n",
              "      buttonEl.style.display =\n",
              "        google.colab.kernel.accessAllowed ? 'block' : 'none';\n",
              "\n",
              "      buttonEl.onclick = () => {\n",
              "        google.colab.notebook.generateWithVariable('df');\n",
              "      }\n",
              "      })();\n",
              "    </script>\n",
              "  </div>\n",
              "\n",
              "    </div>\n",
              "  </div>\n"
            ],
            "application/vnd.google.colaboratory.intrinsic+json": {
              "type": "dataframe",
              "variable_name": "df",
              "summary": "{\n  \"name\": \"df\",\n  \"rows\": 2,\n  \"fields\": [\n    {\n      \"column\": 0,\n      \"properties\": {\n        \"dtype\": \"number\",\n        \"std\": 2,\n        \"min\": 1,\n        \"max\": 4,\n        \"num_unique_values\": 2,\n        \"samples\": [\n          4,\n          1\n        ],\n        \"semantic_type\": \"\",\n        \"description\": \"\"\n      }\n    },\n    {\n      \"column\": 1,\n      \"properties\": {\n        \"dtype\": \"number\",\n        \"std\": 2,\n        \"min\": 2,\n        \"max\": 5,\n        \"num_unique_values\": 2,\n        \"samples\": [\n          5,\n          2\n        ],\n        \"semantic_type\": \"\",\n        \"description\": \"\"\n      }\n    },\n    {\n      \"column\": 2,\n      \"properties\": {\n        \"dtype\": \"number\",\n        \"std\": 2,\n        \"min\": 3,\n        \"max\": 6,\n        \"num_unique_values\": 2,\n        \"samples\": [\n          6,\n          3\n        ],\n        \"semantic_type\": \"\",\n        \"description\": \"\"\n      }\n    }\n  ]\n}"
            }
          },
          "metadata": {},
          "execution_count": 44
        }
      ]
    },
    {
      "cell_type": "markdown",
      "source": [
        "## 45.) In the given array, check if all elements in each column are even.\n",
        "\n",
        "arr = np.array([[2, 4, 6], [3, 5, 7]])"
      ],
      "metadata": {
        "id": "wDYp8hi0bKvE"
      }
    },
    {
      "cell_type": "code",
      "source": [
        "import numpy as np\n",
        "arr = np.array([[2, 4, 6],\n",
        "                [3, 5, 7]])\n",
        "\n",
        "result = np.all(arr%2 == 0,axis =0)\n",
        "result"
      ],
      "metadata": {
        "colab": {
          "base_uri": "https://localhost:8080/"
        },
        "id": "G_V2YfzQnPTD",
        "outputId": "3cd30caf-5e29-4e88-a4d4-4e1a6f69ce1e"
      },
      "execution_count": null,
      "outputs": [
        {
          "output_type": "execute_result",
          "data": {
            "text/plain": [
              "array([False, False, False])"
            ]
          },
          "metadata": {},
          "execution_count": 56
        }
      ]
    },
    {
      "cell_type": "markdown",
      "source": [
        "## 46.) Given a NumPy array arr, reshape it into a matrix of dimensions `m` rows and `n` columns. Return the reshaped matrix.\n",
        "\n",
        "original_array = np.array([1, 2, 3, 4, 5, 6])"
      ],
      "metadata": {
        "id": "HVmV1CmHszd1"
      }
    },
    {
      "cell_type": "code",
      "source": [
        "import numpy as np\n",
        "original_array = np.array([1, 2, 3, 4, 5, 6])\n",
        "new_array = original_array.reshape(3,2)\n",
        "new_array"
      ],
      "metadata": {
        "colab": {
          "base_uri": "https://localhost:8080/"
        },
        "id": "GxmL7Nh5sydj",
        "outputId": "fee2fd0b-d7f2-4028-f404-c5f39272457f"
      },
      "execution_count": null,
      "outputs": [
        {
          "output_type": "execute_result",
          "data": {
            "text/plain": [
              "array([[1, 2],\n",
              "       [3, 4],\n",
              "       [5, 6]])"
            ]
          },
          "metadata": {},
          "execution_count": 2
        }
      ]
    },
    {
      "cell_type": "markdown",
      "source": [
        "## 47.) Create a function that takes a matrix as input and returns the flattened array.\n",
        "\n",
        "input_matrix = np.array([[1, 2, 3], [4, 5, 6]])"
      ],
      "metadata": {
        "id": "UeBVpGz-bA_i"
      }
    },
    {
      "cell_type": "code",
      "source": [
        "import numpy as np\n",
        "input_matrix = np.array([[1, 2, 3], [4, 5, 6]])\n",
        "new_matrix = input_matrix.flatten()\n",
        "new_matrix"
      ],
      "metadata": {
        "colab": {
          "base_uri": "https://localhost:8080/"
        },
        "id": "bBy2hE9wuHaJ",
        "outputId": "c8056f23-d9ac-4119-8bf1-53c6e31dcf54"
      },
      "execution_count": null,
      "outputs": [
        {
          "output_type": "execute_result",
          "data": {
            "text/plain": [
              "array([1, 2, 3, 4, 5, 6])"
            ]
          },
          "metadata": {},
          "execution_count": 3
        }
      ]
    },
    {
      "cell_type": "markdown",
      "source": [
        "## 48.) Write a function that concatenates two given arrays along a specified axis\n",
        "\n",
        "array2 = np.array([[1,2], [3, 4]])\n",
        "\n",
        "array2 = np.array([[5, 6], [7, 8]])"
      ],
      "metadata": {
        "id": "htHzLe6dutgb"
      }
    },
    {
      "cell_type": "code",
      "source": [
        "import numpy as np\n",
        "\n",
        "array1 = np.array([[1,2], [3, 4]])\n",
        "array2 = np.array([[5, 6], [7, 8]])\n",
        "\n",
        "print(\"Concat row wise\")\n",
        "print(np.hstack((array1,array2)))\n",
        "\n",
        "print(\"Concat column wise\")\n",
        "print(np.vstack((array1,array2)))\n"
      ],
      "metadata": {
        "colab": {
          "base_uri": "https://localhost:8080/"
        },
        "id": "TufAIsOYvD1r",
        "outputId": "0081172a-9146-4b58-a823-abf4f718d5a0"
      },
      "execution_count": null,
      "outputs": [
        {
          "output_type": "stream",
          "name": "stdout",
          "text": [
            "Concat row wise\n",
            "[[1 2 5 6]\n",
            " [3 4 7 8]]\n",
            "Concat column wise\n",
            "[[1 2]\n",
            " [3 4]\n",
            " [5 6]\n",
            " [7 8]]\n"
          ]
        }
      ]
    },
    {
      "cell_type": "markdown",
      "source": [
        "## 49.) Create a function that splits an array into multiple sub-arrays along a specified axis.\n",
        "\n",
        "original_array = np.array([[1, 2, 3], [4, 5, 6], [7, 8, 9]])"
      ],
      "metadata": {
        "id": "rvRwgnDzxf1S"
      }
    },
    {
      "cell_type": "code",
      "source": [
        "import numpy as np\n",
        "\n",
        "def split_array(original_array,axis):\n",
        "  result = np.split(original_array, 3, axis=0)\n",
        "  return result\n",
        "\n",
        "original_array = np.array([[1, 2, 3], [4, 5, 6], [7, 8, 9]])\n",
        "axis =0\n",
        "split_array(original_array,axis)\n"
      ],
      "metadata": {
        "colab": {
          "base_uri": "https://localhost:8080/"
        },
        "id": "_svOGs8zyTVV",
        "outputId": "ba47e94a-bb56-4687-a51a-bc4edd5e759a"
      },
      "execution_count": null,
      "outputs": [
        {
          "output_type": "execute_result",
          "data": {
            "text/plain": [
              "[array([[1, 2, 3]]), array([[4, 5, 6]]), array([[7, 8, 9]])]"
            ]
          },
          "metadata": {},
          "execution_count": 20
        }
      ]
    },
    {
      "cell_type": "markdown",
      "source": [
        "## 50.) Write a function that inserts and then deletes elements from a given array at specified indices.\n",
        "\n",
        "original_array = np.array([1, 2, 3, 4, 5])\n",
        "\n",
        "indices_to_insert = [2, 4]\n",
        "\n",
        "values_to_insert = [10, 11]\n",
        "\n",
        "indices_to_delete = [1, 3]"
      ],
      "metadata": {
        "id": "zGBOMtM0yS0W"
      }
    },
    {
      "cell_type": "code",
      "source": [
        "import numpy as np\n",
        "\n",
        "arr = np.array([1, 2, 3, 4, 5])\n",
        "print(\"Orignal array:\",arr)\n",
        "\n",
        "#  insert element\n",
        "result = np.insert(arr, [2,4],[10,11])\n",
        "print(\"After inserting value at a given indices:\")\n",
        "print(result)\n",
        "\n",
        "# delete element at specified indices\n",
        "print(\"remaining elements after deleting 1st and 3rd indices \")\n",
        "print(np.delete(result, [1, 3]))"
      ],
      "metadata": {
        "colab": {
          "base_uri": "https://localhost:8080/"
        },
        "id": "CT7PA794zsoS",
        "outputId": "9783e9a2-90de-47b3-bc0a-9f01c82be845"
      },
      "execution_count": null,
      "outputs": [
        {
          "output_type": "stream",
          "name": "stdout",
          "text": [
            "Orignal array: [1 2 3 4 5]\n",
            "After inserting value at a given indices:\n",
            "[ 1  2 10  3  4 11  5]\n",
            "remaining elements after deleting 1st and 3rd indices \n",
            "[ 1 10  4 11  5]\n"
          ]
        }
      ]
    },
    {
      "cell_type": "markdown",
      "source": [
        "## 51.) Create a NumPy array `arr1` with random integers and another array `arr2` with integers from 1 to 10. Perform element-wise addition between `arr1` and `arr2`."
      ],
      "metadata": {
        "id": "fpcUDNqYQ-hK"
      }
    },
    {
      "cell_type": "code",
      "source": [
        "import numpy as np\n",
        "\n",
        "arr1 = np.random.randint(1,11,10)\n",
        "print(\"arr1:\",arr1)\n",
        "\n",
        "arr2 = np.arange(1,11)\n",
        "print(\"arr2:\",arr2)\n",
        "print(\"\\nAfter adding both arrays:-\")\n",
        "add = arr1 + arr2\n",
        "print(\"Result:\",add)"
      ],
      "metadata": {
        "id": "_qscuv5fQ_CL",
        "colab": {
          "base_uri": "https://localhost:8080/"
        },
        "outputId": "8bf18616-a901-44eb-a2cf-7ce773f32729"
      },
      "execution_count": null,
      "outputs": [
        {
          "output_type": "stream",
          "name": "stdout",
          "text": [
            "arr1: [ 6  3  1  1  8  8  9 10  5  8]\n",
            "arr2: [ 1  2  3  4  5  6  7  8  9 10]\n",
            "\n",
            "After adding both arrays:-\n",
            "Result: [ 7  5  4  5 13 14 16 18 14 18]\n"
          ]
        }
      ]
    },
    {
      "cell_type": "markdown",
      "source": [
        "## 52.) Generate a NumPy array `arr1` with sequential integers from 10 to 1 and another array `arr2` with integers from 1 to 10. Subtract `arr2` from `arr1` element-wise"
      ],
      "metadata": {
        "id": "-eo6kGlIRRAL"
      }
    },
    {
      "cell_type": "code",
      "source": [
        "import numpy as np\n",
        "\n",
        "arr1 = np.arange(1,11)\n",
        "arr1 = arr1[::-1]\n",
        "print(\"arr1:\",arr1)\n",
        "\n",
        "arr2 = np.arange(1,11)\n",
        "print(\"arr2:\",arr2)\n",
        "\n",
        "result = arr1 - arr2\n",
        "print(\"\\nAfter substracting arr2 from arr1:-\")\n",
        "print(\"Result:\",result)"
      ],
      "metadata": {
        "id": "LTSzNFwARYHK",
        "colab": {
          "base_uri": "https://localhost:8080/"
        },
        "outputId": "6ab70c0a-2542-493b-8c09-4a068f0abbf7"
      },
      "execution_count": null,
      "outputs": [
        {
          "output_type": "stream",
          "name": "stdout",
          "text": [
            "arr1: [10  9  8  7  6  5  4  3  2  1]\n",
            "arr2: [ 1  2  3  4  5  6  7  8  9 10]\n",
            "\n",
            "After substracting arr2 from arr1:-\n",
            "Result: [ 9  7  5  3  1 -1 -3 -5 -7 -9]\n"
          ]
        }
      ]
    },
    {
      "cell_type": "markdown",
      "source": [
        "## 53.) Create a NumPy array `arr1` with random integers and another array `arr2` with integers from 1 to 5. Perform element-wise multiplication between `arr1` and `arr2`."
      ],
      "metadata": {
        "id": "ZiGkRLUaFtlb"
      }
    },
    {
      "cell_type": "code",
      "source": [
        "import numpy as np\n",
        "\n",
        "arr1 = np.random.randint(1,6,5)\n",
        "print(\"arr1:\",arr1)\n",
        "\n",
        "arr2 = np.arange(1,6)\n",
        "print(\"arr2:\",arr2)\n",
        "\n",
        "result = arr1 * arr2\n",
        "print(\"\\nAfter multiplying both arrays:-\")\n",
        "print(\"Result:\",result)"
      ],
      "metadata": {
        "id": "jr0bjtH0RuE0",
        "colab": {
          "base_uri": "https://localhost:8080/"
        },
        "outputId": "05986a41-57cf-4b25-8a61-2e21125b87c5"
      },
      "execution_count": null,
      "outputs": [
        {
          "output_type": "stream",
          "name": "stdout",
          "text": [
            "arr1: [5 1 4 3 3]\n",
            "arr2: [1 2 3 4 5]\n",
            "\n",
            "After multiplying both arrays:-\n",
            "Result: [ 5  2 12 12 15]\n"
          ]
        }
      ]
    },
    {
      "cell_type": "markdown",
      "source": [
        "## 54.) Generate a NumPy array `arr1` with even integers from 2 to 10 and another array `arr2` with integers from 1 to 5. Perform element-wise division of `arr1` by `arr2`."
      ],
      "metadata": {
        "id": "ShGsuFjf4wtO"
      }
    },
    {
      "cell_type": "code",
      "source": [
        "import numpy as np\n",
        "\n",
        "arr1 = np.arange(2,11,2)\n",
        "print(\"arr1:\",arr1)\n",
        "\n",
        "arr2 = np.arange(1,6)\n",
        "print(\"arr2:\",arr2)\n",
        "\n",
        "result = arr1 / arr2\n",
        "print(\"\\nAfter dividing arr1 by arr2:-\")\n",
        "print(\"Result:\",result)"
      ],
      "metadata": {
        "id": "dT7-Z5cTRuqC",
        "colab": {
          "base_uri": "https://localhost:8080/"
        },
        "outputId": "547540fb-0fcb-4022-dff8-bbcfd047712e"
      },
      "execution_count": null,
      "outputs": [
        {
          "output_type": "stream",
          "name": "stdout",
          "text": [
            "arr1: [ 2  4  6  8 10]\n",
            "arr2: [1 2 3 4 5]\n",
            "\n",
            "After dividing arr1 by arr2:-\n",
            "Result: [2. 2. 2. 2. 2.]\n"
          ]
        }
      ]
    },
    {
      "cell_type": "markdown",
      "source": [
        "## 55.) Create a NumPy array `arr1` with integers from 1 to 5 and another array `arr2` with the same numbers reversed. Calculate the exponentiation of `arr1` raised to the power of `arr2` element-wise."
      ],
      "metadata": {
        "id": "vpwQLEcdau6j"
      }
    },
    {
      "cell_type": "code",
      "source": [
        "import numpy as np\n",
        "\n",
        "arr1 = np.arange(1,6)\n",
        "print(\"arr1:\",arr1)\n",
        "\n",
        "arr2 = np.arange(1,6,)\n",
        "arr2 = arr2[::-1]\n",
        "print(\"arr2:\",arr2)\n",
        "\n",
        "result = arr1**arr2\n",
        "print(\"\\nExponent of arr1 raised to power arr2:-\")\n",
        "print(\"Result:\",result)"
      ],
      "metadata": {
        "colab": {
          "base_uri": "https://localhost:8080/"
        },
        "id": "1CX6sgbiK4wn",
        "outputId": "3a4716c6-6b5c-470d-f0bf-886cb60e23ef"
      },
      "execution_count": null,
      "outputs": [
        {
          "output_type": "stream",
          "name": "stdout",
          "text": [
            "arr1: [1 2 3 4 5]\n",
            "arr2: [5 4 3 2 1]\n",
            "\n",
            "Exponent of arr1 raised to power arr2:-\n",
            "Result: [ 1 16 27 16  5]\n"
          ]
        }
      ]
    },
    {
      "cell_type": "markdown",
      "source": [
        "## 56.) Write a function that counts the occurrences of a specific substring within a NumPy array of strings.\n",
        "\n",
        "arr = np.array(['hello', 'world', 'hello', 'numpy', 'hello'])"
      ],
      "metadata": {
        "id": "0w0HoZbHR9HJ"
      }
    },
    {
      "cell_type": "code",
      "source": [
        "import numpy as np\n",
        "arr = np.array(['hello', 'world', 'hello', 'numpy', 'hello'])\n",
        "print(np.char.count(arr,'hello'))"
      ],
      "metadata": {
        "id": "U6eP8EI2SAsR",
        "colab": {
          "base_uri": "https://localhost:8080/"
        },
        "outputId": "3e47be53-a6bd-48f2-d562-96be8d841e90"
      },
      "execution_count": null,
      "outputs": [
        {
          "output_type": "stream",
          "name": "stdout",
          "text": [
            "[1 0 1 0 1]\n"
          ]
        }
      ]
    },
    {
      "cell_type": "markdown",
      "source": [
        "## 57.) Write a function that extracts uppercase characters from a NumPy array of strings.\n",
        "\n",
        "arr = np.array(['Hello', 'World', 'OpenAI', 'GPT'])"
      ],
      "metadata": {
        "id": "kFMKMEuhSEy0"
      }
    },
    {
      "cell_type": "code",
      "source": [
        "import numpy as np\n",
        "\n",
        "arr = np.array(['Hello', 'World', 'OpenAI', 'GPT'])\n",
        "for word in arr:\n",
        "  if word.isupper():\n",
        "    print(word)"
      ],
      "metadata": {
        "id": "lionZjSFSMZA",
        "colab": {
          "base_uri": "https://localhost:8080/"
        },
        "outputId": "9c1ce773-96b1-492c-d7f6-7b4423ec9aed"
      },
      "execution_count": null,
      "outputs": [
        {
          "output_type": "stream",
          "name": "stdout",
          "text": [
            "GPT\n"
          ]
        }
      ]
    },
    {
      "cell_type": "markdown",
      "source": [
        "## 58.) Write a function that replaces occurrences of a substring in a NumPy array of strings with a new string.\n",
        "\n",
        "arr = np.array(['apple', 'banana', 'grape', 'pineapple'])"
      ],
      "metadata": {
        "id": "wSSmba8DSPvb"
      }
    },
    {
      "cell_type": "code",
      "source": [
        "import numpy as geek\n",
        "\n",
        "arr1 = np.array(['apple', 'banana', 'grape', 'pineapple'])\n",
        "print(arr1)\n",
        "arr2= np.char.replace(arr1,'grape','orange')\n",
        "print (arr2)\n"
      ],
      "metadata": {
        "id": "-8BVOcEESafD",
        "colab": {
          "base_uri": "https://localhost:8080/"
        },
        "outputId": "983e5602-6273-43b5-ec09-1fb500918857"
      },
      "execution_count": null,
      "outputs": [
        {
          "output_type": "stream",
          "name": "stdout",
          "text": [
            "['apple' 'banana' 'grape' 'pineapple']\n",
            "['apple' 'banana' 'orange' 'pineapple']\n"
          ]
        }
      ]
    },
    {
      "cell_type": "markdown",
      "source": [
        "## 59.) Write a function that concatenates strings in a NumPy array element-wise\n",
        "\n",
        "arr1 = np.array(['Hello', 'World'])\n",
        "arr2 = np.array(['Open', 'AI'])##"
      ],
      "metadata": {
        "id": "lEUs_2SnSeOj"
      }
    },
    {
      "cell_type": "code",
      "source": [
        "arr1 = np.array(['Hello', 'World'])\n",
        "print(\"arr1:\",arr1)\n",
        "\n",
        "arr2 = np.array(['Open', 'AI'])\n",
        "print(\"arr2:\",arr2)\n",
        "\n",
        "result = np.char.add(arr1,arr2)\n",
        "print(\"result:\",result)"
      ],
      "metadata": {
        "id": "a_ddnYa7S2X8",
        "colab": {
          "base_uri": "https://localhost:8080/"
        },
        "outputId": "e023bfff-995b-4843-8b6c-9ab60485ed5c"
      },
      "execution_count": null,
      "outputs": [
        {
          "output_type": "stream",
          "name": "stdout",
          "text": [
            "arr1: ['Hello' 'World']\n",
            "arr2: ['Open' 'AI']\n",
            "result: ['HelloOpen' 'WorldAI']\n"
          ]
        }
      ]
    },
    {
      "cell_type": "markdown",
      "source": [
        "## 60.) Write a function that finds the length of the longest string in a NumPy array.\n",
        "\n",
        "arr = np.array(['apple', 'banana', 'grape', 'pineapple'])"
      ],
      "metadata": {
        "id": "ImT3-X_Q8H4R"
      }
    },
    {
      "cell_type": "code",
      "source": [
        "import numpy as np\n",
        "arr = np.array(['apple', 'banana', 'grape', 'pineapple'])\n",
        "\n",
        "def len_longest_string(arr):\n",
        "  x = max(len(s) for s in arr)\n",
        "  return x\n",
        "\n",
        "len_longest_string(arr)\n",
        "\n"
      ],
      "metadata": {
        "id": "T3fA62KET4RG",
        "colab": {
          "base_uri": "https://localhost:8080/"
        },
        "outputId": "d6877698-b9f3-4649-de1b-cc9c8117b2ab"
      },
      "execution_count": null,
      "outputs": [
        {
          "output_type": "execute_result",
          "data": {
            "text/plain": [
              "9"
            ]
          },
          "metadata": {},
          "execution_count": 18
        }
      ]
    },
    {
      "cell_type": "markdown",
      "source": [
        "## 61.) Create a dataset of 100 random integers between 1 and 1000. Compute the mean, median, variance, and standard deviation of the dataset using NumPy's functions."
      ],
      "metadata": {
        "id": "1kef8uE0bvj9"
      }
    },
    {
      "cell_type": "code",
      "source": [
        "import numpy as np\n",
        "\n",
        "data = np.random.randint(1,1001,100)\n",
        "print(data)\n",
        "print(\"mean:\",data.mean())\n",
        "print(\"variance:\",data.var())\n",
        "print(\"standard deviation:\",data.std())"
      ],
      "metadata": {
        "id": "FY5cBvh1M4vQ",
        "colab": {
          "base_uri": "https://localhost:8080/"
        },
        "outputId": "f2b0ddba-8f7d-445c-ade7-45bf29180db6"
      },
      "execution_count": null,
      "outputs": [
        {
          "output_type": "stream",
          "name": "stdout",
          "text": [
            "[300 678 768 477 249 939 754 187 184 215 582 101 341 222 291  17 339  42\n",
            " 772 323 174 709 692 996 282 567  58 943 248  55 497 654 614 910 633 794\n",
            " 889 525 923 988 283 162 185 875 601 443 775 115 283 175 937 883 504 394\n",
            " 786 765 623 138 620 330 105 762 568 113 681 896 542 895 453 861  31 788\n",
            " 185 617 784 944  49 403 796 716 992 177  50 736 251 113 450 838 480 438\n",
            " 582 203 974 990 148 184 755 216 341 563]\n",
            "mean: 504.79\n",
            "variance: 89204.44590000002\n",
            "standard deviation: 298.6711333557363\n"
          ]
        }
      ]
    },
    {
      "cell_type": "markdown",
      "source": [
        "## 62.) Generate an array of 50 random numbers between 1 and 100. Find the 25th and 75th percentiles of the dataset"
      ],
      "metadata": {
        "id": "9a4phWJBb_0R"
      }
    },
    {
      "cell_type": "code",
      "source": [
        "import numpy as np\n",
        "\n",
        "data = np.random.randint(1,100,50)\n",
        "print(data)\n",
        "print(\"25th percentile\",np.percentile(data,25))\n",
        "print(\"75th percentile\",np.percentile(data,75))"
      ],
      "metadata": {
        "colab": {
          "base_uri": "https://localhost:8080/"
        },
        "id": "tfagXqCAcC4X",
        "outputId": "a28fd428-db9b-4cea-cae4-96598f52956a"
      },
      "execution_count": null,
      "outputs": [
        {
          "output_type": "stream",
          "name": "stdout",
          "text": [
            "[84 64 98 71 61 67 92 74 85 54  3 39  7 93 82 78 87 76  9 98 45 78 21  7\n",
            " 82 98 89 84 34 78 62 70 52 42 25 81 83 18 65  7 98 31 81 19 61 52 15 76\n",
            " 23 86]\n",
            "25th percentile 35.25\n",
            "75th percentile 82.75\n"
          ]
        }
      ]
    },
    {
      "cell_type": "markdown",
      "source": [
        "## 63.) Create two arrays representing two sets of variables. Compute the correlation coefficient between these arrays using NumPy's `corrcoef` function."
      ],
      "metadata": {
        "id": "SkXfHKi_cKty"
      }
    },
    {
      "cell_type": "markdown",
      "source": [],
      "metadata": {
        "id": "4YhzJAz_vrav"
      }
    },
    {
      "cell_type": "code",
      "source": [
        "import numpy as np\n",
        "x = np.array([1,3,5,7,9])\n",
        "y = np.array([2,4,6,8,10])\n",
        "\n",
        "result = np.corrcoef(x,y)\n",
        "print(result)"
      ],
      "metadata": {
        "colab": {
          "base_uri": "https://localhost:8080/"
        },
        "id": "zRklYPi8Qw7f",
        "outputId": "690dc0ec-c129-47a4-c1a5-dedabb87b5af"
      },
      "execution_count": null,
      "outputs": [
        {
          "output_type": "stream",
          "name": "stdout",
          "text": [
            "[[1. 1.]\n",
            " [1. 1.]]\n"
          ]
        }
      ]
    },
    {
      "cell_type": "markdown",
      "source": [
        "## 64.) Create two matrices and perform matrix multiplication using NumPy's `dot` function"
      ],
      "metadata": {
        "id": "h0wqBMsncOxO"
      }
    },
    {
      "cell_type": "code",
      "source": [
        "import numpy as np\n",
        "\n",
        "# creating two matrices\n",
        "p = [[1, 2], [2, 3]]\n",
        "q = [[4, 5], [6, 7]]\n",
        "\n",
        "result = np.dot(p, q)\n",
        "\n",
        "print(\"The matrix multiplication is :\")\n",
        "print(result)"
      ],
      "metadata": {
        "colab": {
          "base_uri": "https://localhost:8080/"
        },
        "id": "MXGn6FNoR5G9",
        "outputId": "5658a1a6-a7ef-41fe-f473-f5197ef4db86"
      },
      "execution_count": null,
      "outputs": [
        {
          "output_type": "stream",
          "name": "stdout",
          "text": [
            "The matrix multiplication is :\n",
            "[[16 19]\n",
            " [26 31]]\n"
          ]
        }
      ]
    },
    {
      "cell_type": "markdown",
      "source": [],
      "metadata": {
        "id": "30US_iLIQ2PL"
      }
    },
    {
      "cell_type": "markdown",
      "source": [
        "## 65.) Create an array of 50 integers between 10 and 1000. Calculate the 10th, 50th (median), and 90th percentiles along with the first and third quartiles"
      ],
      "metadata": {
        "id": "LpHW9s4DcVEE"
      }
    },
    {
      "cell_type": "code",
      "source": [
        "import numpy as np\n",
        "\n",
        "data = np.random.randint(10,1000,50)\n",
        "print(data)\n",
        "print(\"10th percentile\",np.percentile(data,10))\n",
        "print(\"10th percentile\",np.percentile(data,10))\n",
        "print(\"90th percentile\",np.percentile(data,90))"
      ],
      "metadata": {
        "colab": {
          "base_uri": "https://localhost:8080/"
        },
        "id": "tvgA8PzET4nF",
        "outputId": "47d74c5f-aa98-4b77-f924-141365bf70c9"
      },
      "execution_count": null,
      "outputs": [
        {
          "output_type": "stream",
          "name": "stdout",
          "text": [
            "[ 52 365 443 632 537 367 855  92 753 469 333  58 190 762  58  92 241 400\n",
            "  65 399 313 206 393 237 294 756 815 801 541 406 186 706  95 112 103 559\n",
            " 451 433 287 905 752 281 406 956 911 152 357 156 861 175]\n",
            "10th percentile 92.0\n",
            "10th percentile 92.0\n",
            "90th percentile 819.0\n"
          ]
        }
      ]
    },
    {
      "cell_type": "markdown",
      "source": [
        "## 66.) Create a NumPy array of integers and find the index of a specific element."
      ],
      "metadata": {
        "id": "r09fJrtegG4a"
      }
    },
    {
      "cell_type": "code",
      "source": [
        "import numpy as np\n",
        "\n",
        "a = np.array([1, 2, 3, 4, 8, 6, 7, 3, 9, 10])\n",
        "\n",
        "# display index value of 3\n",
        "print(\"All index value of 3 is: \", np.where(a == 3)[0])\n",
        "\n",
        "print(\"First index value of 3 is: \",np.where(a==3)[0][0])"
      ],
      "metadata": {
        "colab": {
          "base_uri": "https://localhost:8080/"
        },
        "id": "v5VpiijvgUuM",
        "outputId": "0b5501d4-4998-4074-e278-d7738089e85b"
      },
      "execution_count": null,
      "outputs": [
        {
          "output_type": "stream",
          "name": "stdout",
          "text": [
            "All index value of 3 is:  [2 7]\n",
            "First index value of 3 is:  2\n"
          ]
        }
      ]
    },
    {
      "cell_type": "markdown",
      "source": [
        "## 67.) Generate a random NumPy array and sort it in ascending order."
      ],
      "metadata": {
        "id": "nMFhox_ngVPQ"
      }
    },
    {
      "cell_type": "code",
      "source": [
        "import numpy as np\n",
        "arr = np.random.randint(1,50,10)\n",
        "print(\"Given arrray:\",arr)\n",
        "\n",
        "arr_new = np.sort(arr)\n",
        "print(\"Sorted array:\",arr_new)\n",
        "\n"
      ],
      "metadata": {
        "colab": {
          "base_uri": "https://localhost:8080/"
        },
        "id": "Xi-haEnQgggN",
        "outputId": "3400e2d5-8be8-495f-d871-d8a938a6db22"
      },
      "execution_count": null,
      "outputs": [
        {
          "output_type": "stream",
          "name": "stdout",
          "text": [
            "Given arrray: [39 37 33 47 20 35 36 13  2 34]\n",
            "Sorted array: [ 2 13 20 33 34 35 36 37 39 47]\n"
          ]
        }
      ]
    },
    {
      "cell_type": "markdown",
      "source": [
        "## 68.) Filter elements > 20  in the given NumPy array.\n",
        "arr = np.array([12, 25, 6, 42, 8, 30])"
      ],
      "metadata": {
        "id": "COtax2g8gsY0"
      }
    },
    {
      "cell_type": "code",
      "source": [
        "import numpy as np\n",
        "arr = np.array([12, 25, 6, 42, 8, 30])\n",
        "\n",
        "filter = arr[arr>20]\n",
        "print(\"elements greater than 20 are:\",filter)"
      ],
      "metadata": {
        "colab": {
          "base_uri": "https://localhost:8080/"
        },
        "id": "OufYJbLlg5nF",
        "outputId": "8be977fd-690e-4c27-e1bf-395c3df1bee0"
      },
      "execution_count": null,
      "outputs": [
        {
          "output_type": "stream",
          "name": "stdout",
          "text": [
            "elements greater than 20 are: [25 42 30]\n"
          ]
        }
      ]
    },
    {
      "cell_type": "markdown",
      "source": [
        "## 69.) Filter elements which are divisible by 3 from a given NumPy array."
      ],
      "metadata": {
        "id": "vdFopHyjhNXd"
      }
    },
    {
      "cell_type": "code",
      "source": [
        "import numpy as np\n",
        "arr = np.array([1, 5, 8, 12, 15])\n",
        "\n",
        "filter = arr[arr%3 == 0]\n",
        "print(\"elements divisible by 3 are:\",filter)"
      ],
      "metadata": {
        "colab": {
          "base_uri": "https://localhost:8080/"
        },
        "id": "MCA3KKYPhcBf",
        "outputId": "a20c968a-84c3-436f-f79e-54eb75316445"
      },
      "execution_count": null,
      "outputs": [
        {
          "output_type": "stream",
          "name": "stdout",
          "text": [
            "elements divisible by 3 are: [12 15]\n"
          ]
        }
      ]
    },
    {
      "cell_type": "markdown",
      "source": [
        "## 70.) Filter elements which are ≥ 20 and ≤ 40 from a given NumPy array."
      ],
      "metadata": {
        "id": "OTJ5c53vhbpq"
      }
    },
    {
      "cell_type": "code",
      "source": [
        "import numpy as np\n",
        "arr = np.array([10, 20, 30, 40, 50])\n",
        "\n",
        "mask = (arr>=20) & (arr<= 40)\n",
        "print(\"filtered elements  are:\", arr[mask])"
      ],
      "metadata": {
        "colab": {
          "base_uri": "https://localhost:8080/"
        },
        "id": "5-ovgRrOhq9C",
        "outputId": "3b983dbf-d9eb-4da5-dc48-d143d9f5ff2a"
      },
      "execution_count": null,
      "outputs": [
        {
          "output_type": "stream",
          "name": "stdout",
          "text": [
            "filtered elements  are: [20 30 40]\n"
          ]
        }
      ]
    },
    {
      "cell_type": "markdown",
      "source": [
        "## 71.) For the given NumPy array, check its byte order using the `dtype` attribute byteorder\n",
        "\n",
        "arr = np.array([1, 2, 3])"
      ],
      "metadata": {
        "id": "xrhY1pWMg8Ck"
      }
    },
    {
      "cell_type": "code",
      "source": [
        "import numpy as np\n",
        "arr = np.array([1, 2, 3])\n",
        "print(\"Byte order of given array:\",arr.dtype.byteorder)\n",
        "\n",
        "# note: All built-in data-type objects have byteorder either ‘=’ or ‘|’."
      ],
      "metadata": {
        "colab": {
          "base_uri": "https://localhost:8080/"
        },
        "id": "NfG-FP_kh5Hb",
        "outputId": "0324d260-5031-42b8-9fe9-440343d54f1e"
      },
      "execution_count": null,
      "outputs": [
        {
          "output_type": "stream",
          "name": "stdout",
          "text": [
            "Byte order of given array: =\n"
          ]
        }
      ]
    },
    {
      "cell_type": "markdown",
      "source": [
        "## 72.) For the given NumPy array, perform byte swapping in place using `byteswap()`."
      ],
      "metadata": {
        "id": "icSsz77liGhv"
      }
    },
    {
      "cell_type": "code",
      "source": [
        "import numpy as np\n",
        "arr = np.array([1, 2, 3], dtype=np.int32)\n",
        "\n",
        "print(arr.byteswap(inplace = True))"
      ],
      "metadata": {
        "colab": {
          "base_uri": "https://localhost:8080/"
        },
        "id": "MAgkQnibiKv3",
        "outputId": "e71dac76-1c2c-4fe7-97a7-ad3d772af08c"
      },
      "execution_count": null,
      "outputs": [
        {
          "output_type": "stream",
          "name": "stdout",
          "text": [
            "[16777216 33554432 50331648]\n"
          ]
        }
      ]
    },
    {
      "cell_type": "markdown",
      "source": [
        "## 73.) For the given NumPy array, swap its byte order without modifying the original array using newbyteorder()`."
      ],
      "metadata": {
        "id": "8zwBy8Xxg35r"
      }
    },
    {
      "cell_type": "code",
      "source": [
        "import numpy as np\n",
        "arr = np.array([1, 2, 3], dtype=np.int32)\n",
        "print(arr.newbyteorder())"
      ],
      "metadata": {
        "colab": {
          "base_uri": "https://localhost:8080/"
        },
        "id": "JgXxQqOriZzi",
        "outputId": "e9c1e778-9e4b-4e53-b22e-ac25fe10765c"
      },
      "execution_count": null,
      "outputs": [
        {
          "output_type": "stream",
          "name": "stdout",
          "text": [
            "[16777216 33554432 50331648]\n"
          ]
        }
      ]
    },
    {
      "cell_type": "markdown",
      "source": [
        "## 74.) For the given NumPy array and swap its byte order conditionally based on system endianness using newbyteorder()`."
      ],
      "metadata": {
        "id": "lyINJLRkirWn"
      }
    },
    {
      "cell_type": "code",
      "source": [
        "import numpy as np\n",
        "arr = np.array([1, 2, 3], dtype=np.int32)\n",
        "print(arr.newbyteorder(\">\"))\n",
        "print(arr.newbyteorder(\"<\"))"
      ],
      "metadata": {
        "colab": {
          "base_uri": "https://localhost:8080/"
        },
        "id": "GuqLoW98jAJr",
        "outputId": "240fdeaf-6195-4ded-af2c-203f62e09af8"
      },
      "execution_count": null,
      "outputs": [
        {
          "output_type": "stream",
          "name": "stdout",
          "text": [
            "[16777216 33554432 50331648]\n",
            "[1 2 3]\n"
          ]
        }
      ]
    },
    {
      "cell_type": "markdown",
      "source": [
        "## 75.) For the given NumPy array, check if byte swapping is necessary for the current system using `dtype` attribute `byteorder`."
      ],
      "metadata": {
        "id": "weaPdCqejEZo"
      }
    },
    {
      "cell_type": "code",
      "source": [
        "import numpy as np\n",
        "arr = np.array([1, 2, 3], dtype=np.int32)\n",
        "print(arr.newbyteorder(\"=\"))\n",
        "\n",
        "# CONFUSION"
      ],
      "metadata": {
        "colab": {
          "base_uri": "https://localhost:8080/"
        },
        "id": "t8woaMCJjKFI",
        "outputId": "340a448a-3377-4c75-9cf0-4e0b94227578"
      },
      "execution_count": null,
      "outputs": [
        {
          "output_type": "stream",
          "name": "stdout",
          "text": [
            "[1 2 3]\n"
          ]
        }
      ]
    },
    {
      "cell_type": "markdown",
      "source": [
        "### CONFUSION QUES NO 75"
      ],
      "metadata": {
        "id": "FIGwZkUt5jfw"
      }
    },
    {
      "cell_type": "markdown",
      "source": [
        "## 76.) Create a NumPy array `arr1` with values from 1 to 10. Create a copy of `arr1` named `copy_arr` and modify an element in `copy_arr`. Check if modifying `copy_arr` affects `arr1`.\n",
        "\n",
        "\n"
      ],
      "metadata": {
        "id": "UTMFrP3uxwUJ"
      }
    },
    {
      "cell_type": "code",
      "source": [
        "import numpy as np\n",
        "\n",
        "arr1 = np.arange(1,11)\n",
        "print(\"orignal array :\",arr1)\n",
        "\n",
        "copy_arr = arr1.copy()\n",
        "\n",
        "copy_arr[3] = 100\n",
        "\n",
        "print(\"Orignal array after manipulation in copy array:\",arr1)\n",
        "print(\"Modified copied  array:\",copy_arr)\n",
        "\n",
        "# Comparing the arrays\n",
        "if np.array_equal(arr1, copy_arr):\n",
        "    print(\"Equal\")\n",
        "else:\n",
        "    print(\"Not Equal\")"
      ],
      "metadata": {
        "id": "9DCROSCgybQq",
        "colab": {
          "base_uri": "https://localhost:8080/"
        },
        "outputId": "1995952d-610f-46bd-fdf7-66ba886a572c"
      },
      "execution_count": null,
      "outputs": [
        {
          "output_type": "stream",
          "name": "stdout",
          "text": [
            "orignal array : [ 1  2  3  4  5  6  7  8  9 10]\n",
            "Orignal array after manipulation in copy array: [ 1  2  3  4  5  6  7  8  9 10]\n",
            "Modified copied  array: [  1   2   3 100   5   6   7   8   9  10]\n",
            "Not Equal\n"
          ]
        }
      ]
    },
    {
      "cell_type": "markdown",
      "source": [
        "## 77.) Create a 2D NumPy array `matrix` of shape (3, 3) with random integers. Extract a slice `view_slice` from the matrix. Modify an element in `view_slice` and observe if it changes the original `matrix`."
      ],
      "metadata": {
        "id": "U9lAstFvcc7J"
      }
    },
    {
      "cell_type": "code",
      "source": [
        "import numpy as np\n",
        "\n",
        "x = np.random.randint(0,10,9).reshape(3,3)\n",
        "print(\"Orignal matrix:-\")\n",
        "print(x)\n",
        "\n",
        "# extract 2nd row\n",
        "view_slice = x[1,:]\n",
        "print(\"Slice extracted from matrix x:\")\n",
        "print(view_slice)\n",
        "\n",
        "# manipulation in slice\n",
        "view_slice[1] = 99\n",
        "\n",
        "print(\"Orignal matrix after modification in slice:\")\n",
        "print(x)"
      ],
      "metadata": {
        "id": "WQwu-qM9ybz6",
        "colab": {
          "base_uri": "https://localhost:8080/"
        },
        "outputId": "dbfe9fc8-b122-4c1f-ca95-18b4093c787b"
      },
      "execution_count": null,
      "outputs": [
        {
          "output_type": "stream",
          "name": "stdout",
          "text": [
            "Orignal matrix:-\n",
            "[[8 8 5]\n",
            " [3 0 5]\n",
            " [7 9 0]]\n",
            "Slice extracted from matrix x:\n",
            "[3 0 5]\n",
            "Orignal matrix after modification in slice:\n",
            "[[ 8  8  5]\n",
            " [ 3 99  5]\n",
            " [ 7  9  0]]\n"
          ]
        }
      ]
    },
    {
      "cell_type": "markdown",
      "source": [
        "## 78.) Create a NumPy array `array_a` of shape (4, 3) with sequential integers from 1 to 12. Extract a slice `view_b` from `array_a` and broadcast the addition of 5 to view_b. Check if it alters the original `array_a`."
      ],
      "metadata": {
        "id": "BGN9xb7Xycaj"
      }
    },
    {
      "cell_type": "code",
      "source": [
        "import numpy as np\n",
        "\n",
        "array_a = np.arange(1,13).reshape(4,3)\n",
        "print(\"Orignal array:\")\n",
        "print(array_a)\n",
        "\n",
        "view_b = array_a[1:3,:]\n",
        "print(\"Slice extracted from orignal array:\")\n",
        "print(view_b)\n",
        "\n",
        "view_b = view_b + 5\n",
        "print(\"Broadcasting additon of 5 in slice\")\n",
        "print(view_b)\n",
        "print(\"Orignal array after modification in slice:\")\n",
        "print(array_a)\n",
        "\n"
      ],
      "metadata": {
        "id": "NQsasA5SymaH",
        "colab": {
          "base_uri": "https://localhost:8080/"
        },
        "outputId": "b4b70fb5-29fb-46f5-8268-776772b99567"
      },
      "execution_count": null,
      "outputs": [
        {
          "output_type": "stream",
          "name": "stdout",
          "text": [
            "Orignal array:\n",
            "[[ 1  2  3]\n",
            " [ 4  5  6]\n",
            " [ 7  8  9]\n",
            " [10 11 12]]\n",
            "Slice extracted from orignal array:\n",
            "[[4 5 6]\n",
            " [7 8 9]]\n",
            "Broadcasting additon of 5 in slice\n",
            "[[ 9 10 11]\n",
            " [12 13 14]]\n",
            "Orignal array after modification in slice:\n",
            "[[ 1  2  3]\n",
            " [ 4  5  6]\n",
            " [ 7  8  9]\n",
            " [10 11 12]]\n"
          ]
        }
      ]
    },
    {
      "cell_type": "markdown",
      "source": [
        "## 79.) Create a NumPy array `orig_array` of shape (2, 4) with values from 1 to 8. Create a reshaped view reshaped_view` of shape (4, 2) from orig_array. Modify an element in `reshaped_view` and check if it reflects changes in the original `orig_array`."
      ],
      "metadata": {
        "id": "0YIa9vSGym5_"
      }
    },
    {
      "cell_type": "code",
      "source": [
        "import numpy as np\n",
        "\n",
        "orig_array = np.arange(1,9).reshape(2,4)\n",
        "print(\"Orignal array:\")\n",
        "print(orig_array)\n",
        "\n",
        "reshaped_view = orig_array.reshape(4,2).view()\n",
        "print(\"Reshaped_view:\")\n",
        "print(reshaped_view)\n",
        "\n",
        "reshaped_view[(2,0)] = 99\n",
        "print(\"Modification in reshaped_view:\")\n",
        "print(reshaped_view)\n",
        "\n",
        "print(\"orignal array after modification in reshaped_view\")\n",
        "print(orig_array)"
      ],
      "metadata": {
        "id": "aepVhEaA49ju",
        "colab": {
          "base_uri": "https://localhost:8080/"
        },
        "outputId": "1293e8f5-3e82-4e95-a322-5dfb2db3a6c0"
      },
      "execution_count": null,
      "outputs": [
        {
          "output_type": "stream",
          "name": "stdout",
          "text": [
            "Orignal array:\n",
            "[[1 2 3 4]\n",
            " [5 6 7 8]]\n",
            "Reshaped_view:\n",
            "[[1 2]\n",
            " [3 4]\n",
            " [5 6]\n",
            " [7 8]]\n",
            "Modification in reshaped_view:\n",
            "[[ 1  2]\n",
            " [ 3  4]\n",
            " [99  6]\n",
            " [ 7  8]]\n",
            "orignal array after modification in reshaped_view\n",
            "[[ 1  2  3  4]\n",
            " [99  6  7  8]]\n"
          ]
        }
      ]
    },
    {
      "cell_type": "markdown",
      "source": [
        "## 80.) Create a NumPy array `data` of shape (3, 4) with random integers. Extract a copy `data_copy` of elements greater than 5. Modify an element in `data_copy` and verify if it affects the original `data`."
      ],
      "metadata": {
        "id": "h_8zOYHwyxfN"
      }
    },
    {
      "cell_type": "code",
      "source": [
        "import numpy as np\n",
        "\n",
        "data = np.random.randint(1,10,12).reshape(3,4)\n",
        "print(\"Orignal data array:\")\n",
        "print(data)\n",
        "\n",
        "data_copy = data[data>5]\n",
        "print(\"extracting element greater than 5 :\")\n",
        "print(data_copy)\n",
        "\n",
        "print(\"Modify an element in data_copy:\")\n",
        "data_copy[1] = 100\n",
        "print(data_copy)\n",
        "\n",
        "print(\"data array after modification in extracted copy\")\n",
        "print(data)\n"
      ],
      "metadata": {
        "id": "q4gLVdh_zEOZ",
        "colab": {
          "base_uri": "https://localhost:8080/"
        },
        "outputId": "1e9df637-db8c-45cf-e996-ae5183a7e7c1"
      },
      "execution_count": null,
      "outputs": [
        {
          "output_type": "stream",
          "name": "stdout",
          "text": [
            "Orignal data array:\n",
            "[[2 1 6 7]\n",
            " [7 3 7 1]\n",
            " [3 3 7 6]]\n",
            "extracting element greater than 5 :\n",
            "[6 7 7 7 7 6]\n",
            "Modify an element in data_copy:\n",
            "[  6 100   7   7   7   6]\n",
            "data array after modification in extracted copy\n",
            "[[2 1 6 7]\n",
            " [7 3 7 1]\n",
            " [3 3 7 6]]\n"
          ]
        }
      ]
    },
    {
      "cell_type": "markdown",
      "source": [
        "## 81.) Create two matrices A and B of identical shape containing integers and perform addition and subtraction operations between them."
      ],
      "metadata": {
        "id": "bl6D45DczDyb"
      }
    },
    {
      "cell_type": "code",
      "source": [
        "import numpy as np\n",
        "A = np.arange(1,5).reshape(2,2)\n",
        "print(\"matrix A:\")\n",
        "print(A)\n",
        "\n",
        "B = np.arange(1,5).reshape(2,2)\n",
        "print(\"\\nmatrix B:\")\n",
        "print(B)\n",
        "\n",
        "add = A + B\n",
        "sub = A - B\n",
        "\n",
        "print(\"\\nResult of matrix addition:\")\n",
        "print(add)\n",
        "print(\"\\nResult of matrix substraction:\")\n",
        "print(sub)"
      ],
      "metadata": {
        "colab": {
          "base_uri": "https://localhost:8080/"
        },
        "id": "iL79nFHazK3q",
        "outputId": "94ad4b9d-03fe-4e54-8da3-66fd38c44a3a"
      },
      "execution_count": null,
      "outputs": [
        {
          "output_type": "stream",
          "name": "stdout",
          "text": [
            "matrix A:\n",
            "[[1 2]\n",
            " [3 4]]\n",
            "\n",
            "matrix B:\n",
            "[[1 2]\n",
            " [3 4]]\n",
            "\n",
            "Result of matrix addition:\n",
            "[[2 4]\n",
            " [6 8]]\n",
            "\n",
            "Result of matrix substraction:\n",
            "[[0 0]\n",
            " [0 0]]\n"
          ]
        }
      ]
    },
    {
      "cell_type": "markdown",
      "source": [
        "## 82.) Generate two matrices `C` (3x2) and `D` (2x4) and perform matrix multiplication."
      ],
      "metadata": {
        "id": "NtGevcRqzLTx"
      }
    },
    {
      "cell_type": "code",
      "source": [
        "import numpy as np\n",
        "C = np.arange(0,6).reshape(3,2)\n",
        "print(\"matrix C:\")\n",
        "print(C)\n",
        "\n",
        "D = np.arange(0,8).reshape(2,4)\n",
        "print(\"\\nmatrix D:\")\n",
        "print(D)\n",
        "\n",
        "result = C.dot(D)\n",
        "print(\"\\nResult of matrix multiplication:\")\n",
        "print(result)\n"
      ],
      "metadata": {
        "colab": {
          "base_uri": "https://localhost:8080/"
        },
        "id": "wvFJwvZbzVt0",
        "outputId": "6f3c4dcc-53b9-4688-b319-03288fe0c339"
      },
      "execution_count": null,
      "outputs": [
        {
          "output_type": "stream",
          "name": "stdout",
          "text": [
            "matrix C:\n",
            "[[0 1]\n",
            " [2 3]\n",
            " [4 5]]\n",
            "\n",
            "matrix D:\n",
            "[[0 1 2 3]\n",
            " [4 5 6 7]]\n",
            "\n",
            "Result of matrix multiplication:\n",
            "[[ 4  5  6  7]\n",
            " [12 17 22 27]\n",
            " [20 29 38 47]]\n"
          ]
        }
      ]
    },
    {
      "cell_type": "markdown",
      "source": [
        "## 83.) Create a matrix `E` and find its transpose."
      ],
      "metadata": {
        "id": "8mdozK4UcYKf"
      }
    },
    {
      "cell_type": "code",
      "source": [
        "import numpy as np\n",
        "E = np.arange(0,6).reshape(3,2)\n",
        "print(\"matrix E:\")\n",
        "print(E)\n",
        "\n",
        "print(\"Transpose of matrix E:\")\n",
        "print(np.transpose(E))"
      ],
      "metadata": {
        "colab": {
          "base_uri": "https://localhost:8080/"
        },
        "id": "FRrINBt6zYxG",
        "outputId": "4eb3c712-b973-40f8-e76a-e5962eb822b2"
      },
      "execution_count": null,
      "outputs": [
        {
          "output_type": "stream",
          "name": "stdout",
          "text": [
            "matrix E:\n",
            "[[0 1]\n",
            " [2 3]\n",
            " [4 5]]\n",
            "Transpose of matrix E:\n",
            "[[0 2 4]\n",
            " [1 3 5]]\n"
          ]
        }
      ]
    },
    {
      "cell_type": "markdown",
      "source": [
        "## 84.) Generate a square matrix `F` and compute its determinant."
      ],
      "metadata": {
        "id": "j2Je8WcLzeZ1"
      }
    },
    {
      "cell_type": "code",
      "source": [
        "import numpy as np\n",
        "F = np.arange(1,10).reshape(3,3)\n",
        "print(\"matrix F:\")\n",
        "print(F)\n",
        "\n",
        "print(\"Determinant of matrix F:\")\n",
        "print(np.linalg.det(F))"
      ],
      "metadata": {
        "colab": {
          "base_uri": "https://localhost:8080/"
        },
        "id": "AspD9v1rzkGl",
        "outputId": "630849c9-5194-4d7d-f277-583ae59c5a45"
      },
      "execution_count": null,
      "outputs": [
        {
          "output_type": "stream",
          "name": "stdout",
          "text": [
            "matrix F:\n",
            "[[1 2 3]\n",
            " [4 5 6]\n",
            " [7 8 9]]\n",
            "Determinant of matrix F:\n",
            "0.0\n"
          ]
        }
      ]
    },
    {
      "cell_type": "markdown",
      "source": [
        "## 85.) Create a square matrix `G` and find its inverse."
      ],
      "metadata": {
        "id": "Of2TrT4vzkok"
      }
    },
    {
      "cell_type": "code",
      "source": [
        "import numpy as np\n",
        "G = np.arange(1,5).reshape(2,2)\n",
        "print(\"matrix G:\")\n",
        "print(G)\n",
        "\n",
        "print(\"Inverse of matrix G:\")\n",
        "print(np.linalg.inv(G))"
      ],
      "metadata": {
        "colab": {
          "base_uri": "https://localhost:8080/"
        },
        "id": "7kG65Uu_zqwK",
        "outputId": "1aa48c24-e28c-44f7-8e49-082273599470"
      },
      "execution_count": null,
      "outputs": [
        {
          "output_type": "stream",
          "name": "stdout",
          "text": [
            "matrix G:\n",
            "[[1 2]\n",
            " [3 4]]\n",
            "Inverse of matrix G:\n",
            "[[-2.   1. ]\n",
            " [ 1.5 -0.5]]\n"
          ]
        }
      ]
    },
    {
      "cell_type": "markdown",
      "source": [],
      "metadata": {
        "id": "8rPhAVKL2WfN"
      }
    }
  ]
}