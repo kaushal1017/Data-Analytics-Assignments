{
  "cells": [
    {
      "cell_type": "markdown",
      "metadata": {
        "id": "view-in-github",
        "colab_type": "text"
      },
      "source": [
        "<a href=\"https://colab.research.google.com/github/kaushal1017/Data-Analytics-Assignments/blob/main/Assignment1_python.ipynb\" target=\"_parent\"><img src=\"https://colab.research.google.com/assets/colab-badge.svg\" alt=\"Open In Colab\"/></a>"
      ]
    },
    {
      "cell_type": "markdown",
      "metadata": {
        "id": "6fJbXWQMri6Q"
      },
      "source": [
        "# Assignment 1 : Data Structure in python"
      ]
    },
    {
      "cell_type": "markdown",
      "metadata": {
        "id": "F9lcp562r0KC"
      },
      "source": [
        "## 1.) Reverse a string"
      ]
    },
    {
      "cell_type": "code",
      "execution_count": null,
      "metadata": {
        "colab": {
          "base_uri": "https://localhost:8080/"
        },
        "id": "QHV2e-SXrtLV",
        "outputId": "5b55ed9a-97ec-42de-a087-05ae59a3ecf3"
      },
      "outputs": [
        {
          "name": "stdout",
          "output_type": "stream",
          "text": [
            "Enter any string data:  Anuradha Singh Rajpoot\n",
            "toopjaR hgniS ahdarunA \n"
          ]
        }
      ],
      "source": [
        "str1 = str(input(\"Enter any string data: \"))\n",
        "print(str1[::-1])"
      ]
    },
    {
      "cell_type": "markdown",
      "metadata": {
        "id": "YzW7uOWQtG6-"
      },
      "source": [
        "## 2.) Count the number of vowels in a string."
      ]
    },
    {
      "cell_type": "code",
      "execution_count": null,
      "metadata": {
        "colab": {
          "base_uri": "https://localhost:8080/"
        },
        "id": "-kX5lTvMsabA",
        "outputId": "68395552-83da-44ec-aaf6-37aec14fa7cf"
      },
      "outputs": [
        {
          "name": "stdout",
          "output_type": "stream",
          "text": [
            "Enter any string data: Kaushal Singh\n",
            "Number of vowel in a given string is  4\n"
          ]
        }
      ],
      "source": [
        "str1 = str(input(\"Enter any string data: \"))\n",
        "vowel_list = [\"a\",\"e\",\"i\",\"o\",\"u\",\"A\",\"E\",\"I\",\"O\",\"U\"]\n",
        "count = 0\n",
        "\n",
        "for i in str1:\n",
        "  if i in vowel_list:\n",
        "    count = count+1\n",
        "\n",
        "print(\"Number of vowel in a given string is \",count)"
      ]
    },
    {
      "cell_type": "markdown",
      "metadata": {
        "id": "bAYLd2OyxJL3"
      },
      "source": [
        "## 3.) Check a given string is palindrome or not?"
      ]
    },
    {
      "cell_type": "code",
      "execution_count": null,
      "metadata": {
        "colab": {
          "base_uri": "https://localhost:8080/"
        },
        "id": "PR-fi7I9u-Lv",
        "outputId": "b23abb33-9ab7-41e5-9892-11ad30ab976b"
      },
      "outputs": [
        {
          "name": "stdout",
          "output_type": "stream",
          "text": [
            "Enter a string here: MADAM\n",
            "String is Pallindrome\n"
          ]
        }
      ],
      "source": [
        "str1 = str(input(\"Enter a string here: \"))\n",
        "str2 = str1[-1::-1]\n",
        "if(str1 == str2):\n",
        "  print(\"String is Pallindrome\")\n",
        "else:\n",
        "  print(\"String is not Pallindrome\")\n"
      ]
    },
    {
      "cell_type": "markdown",
      "metadata": {
        "id": "mpoXWOtgcAw7"
      },
      "source": [
        "## 4.) Check if two strings are anagrams"
      ]
    },
    {
      "cell_type": "code",
      "execution_count": null,
      "metadata": {
        "colab": {
          "base_uri": "https://localhost:8080/"
        },
        "id": "KvMqN396cN43",
        "outputId": "a31f501a-2a76-45e5-9a03-890ec96d206b"
      },
      "outputs": [
        {
          "name": "stdout",
          "output_type": "stream",
          "text": [
            "Enter first string here: cap\n",
            "Enter second string here: pac\n",
            "Both strings are anagram.\n"
          ]
        }
      ],
      "source": [
        "word1 = str(input(\"Enter first string here: \"))\n",
        "word2 = str(input(\"Enter second string here: \"))\n",
        "if len(word1)==len(word2):\n",
        "  if sorted(word1) == sorted(word2):\n",
        "    print(\"Both strings are anagram.\")\n",
        "  else:\n",
        "    print(\"Both string are not anagram.\")\n",
        "else:\n",
        "  print(\"Both string are not anagram.\")\n"
      ]
    },
    {
      "cell_type": "markdown",
      "metadata": {
        "id": "xqlTheMqeWTC"
      },
      "source": [
        "## 5.) Find all occurances of given substring within another string."
      ]
    },
    {
      "cell_type": "code",
      "execution_count": null,
      "metadata": {
        "colab": {
          "base_uri": "https://localhost:8080/"
        },
        "id": "wUi2YNZMeov3",
        "outputId": "aaf5f9b2-0938-4c35-b272-ba9f7369d303"
      },
      "outputs": [
        {
          "name": "stdout",
          "output_type": "stream",
          "text": [
            "4\n"
          ]
        }
      ],
      "source": [
        "string = \"ababbababcdbabcdabab\"\n",
        "substring = \"bab\"\n",
        "\n",
        "print(string.count(substring))"
      ]
    },
    {
      "cell_type": "markdown",
      "metadata": {
        "id": "lIeQMnAuh_QI"
      },
      "source": [
        "## 6.) perform basic string compression using counts of repeated character."
      ]
    },
    {
      "cell_type": "code",
      "execution_count": null,
      "metadata": {
        "colab": {
          "base_uri": "https://localhost:8080/"
        },
        "id": "k8r4r6btllDA",
        "outputId": "a2ea0e21-73db-48a1-f7fc-255c1797904e"
      },
      "outputs": [
        {
          "name": "stdout",
          "output_type": "stream",
          "text": [
            "enter a string here: abcdaade\n",
            "1 a\n",
            "1 b\n",
            "1 c\n",
            "1 d\n",
            "2 a\n",
            "2 d\n"
          ]
        }
      ],
      "source": [
        "s = input(\"enter a string here: \")\n",
        "count = 1\n",
        "for i in range(1,len(s)):\n",
        "  if s[i]==s[i-1]:\n",
        "    count += 1\n",
        "  else:\n",
        "    print(count,s[i-1])\n",
        "\n",
        "# confusion"
      ]
    },
    {
      "cell_type": "markdown",
      "metadata": {
        "id": "fg6wEZcl-Orf"
      },
      "source": [
        "## 7.) determine if a string has all unique characters"
      ]
    },
    {
      "cell_type": "code",
      "execution_count": null,
      "metadata": {
        "colab": {
          "base_uri": "https://localhost:8080/"
        },
        "id": "j1aMQth--pKw",
        "outputId": "fc8bc25b-1429-4f50-8a81-363da20d2490"
      },
      "outputs": [
        {
          "name": "stdout",
          "output_type": "stream",
          "text": [
            "enter a string here: lobo\n",
            "the string lobo contains duplicate element.\n"
          ]
        }
      ],
      "source": [
        "def isUniqueCharacter(s):\n",
        "  y = sorted(s)\n",
        "  for i in range(len(y)-1):\n",
        "    if y[i] == y[i+1]:\n",
        "      return False\n",
        "  return True\n",
        "\n",
        "s = input(\"enter a string here: \").lower()\n",
        "if isUniqueCharacter(s):\n",
        "  print(\"the string\",s,\"contains all unique elements.\")\n",
        "else:\n",
        "  print(\"the string\",s,\"contains duplicate element.\")\n"
      ]
    },
    {
      "cell_type": "markdown",
      "metadata": {
        "id": "_iiEkUXeKU_u"
      },
      "source": [
        "## 8.) convert a given string to uppercase or lowercase"
      ]
    },
    {
      "cell_type": "code",
      "execution_count": null,
      "metadata": {
        "colab": {
          "base_uri": "https://localhost:8080/"
        },
        "id": "rHfsSl2vGEtO",
        "outputId": "307b97eb-591e-4432-84a8-b93357499d06"
      },
      "outputs": [
        {
          "name": "stdout",
          "output_type": "stream",
          "text": [
            "Enter a string here: Kaushal Singh\n",
            "The uppercase conversion of given string is KAUSHAL SINGH\n",
            "The lowercase conversion of given string is kaushal singh\n"
          ]
        }
      ],
      "source": [
        "str1 = input(\"Enter a string here: \")\n",
        "print(\"The uppercase conversion of given string is\",str1.upper())\n",
        "print(\"The lowercase conversion of given string is\",str1.lower())"
      ]
    },
    {
      "cell_type": "markdown",
      "metadata": {
        "id": "ItKqDHN9LTer"
      },
      "source": [
        "## 9.) count the number of words in a string?"
      ]
    },
    {
      "cell_type": "code",
      "execution_count": null,
      "metadata": {
        "colab": {
          "base_uri": "https://localhost:8080/"
        },
        "id": "m1mswgLlLdOj",
        "outputId": "1dab67bd-a1b3-4dcd-9d67-2ad7a96323c9"
      },
      "outputs": [
        {
          "name": "stdout",
          "output_type": "stream",
          "text": [
            "Enter string here: my name is kaushal singh\n",
            "Number of words in a string is 5\n"
          ]
        }
      ],
      "source": [
        "str1 = input(\"Enter string here: \")\n",
        "count = 0\n",
        "x = str1.split()\n",
        "for i in x:\n",
        "  count = count + 1\n",
        "print(\"Number of words in a string is\",count)\n"
      ]
    },
    {
      "cell_type": "markdown",
      "metadata": {
        "id": "0dmAoChzeO1T"
      },
      "source": []
    },
    {
      "cell_type": "markdown",
      "metadata": {
        "id": "zrkH8bppO_kb"
      },
      "source": [
        "## 10.) concatenate 2 string without using + operator."
      ]
    },
    {
      "cell_type": "code",
      "execution_count": null,
      "metadata": {
        "colab": {
          "base_uri": "https://localhost:8080/"
        },
        "id": "IFMe_X_mPQ8n",
        "outputId": "b1fb0924-f235-4076-c465-12dde067dd40"
      },
      "outputs": [
        {
          "name": "stdout",
          "output_type": "stream",
          "text": [
            "enter first string here: Kaushal\n",
            "enter second string here: Singh\n",
            "Kaushal Singh\n"
          ]
        }
      ],
      "source": [
        "from typing_extensions import Concatenate\n",
        "str1 = input(\"enter first string here: \")\n",
        "str2 = input(\"enter second string here: \")\n",
        "\n",
        "print(\" \".join([str1,str2]))"
      ]
    },
    {
      "cell_type": "markdown",
      "metadata": {
        "id": "z_D7gQseR0zE"
      },
      "source": [
        "## 11.) remove all occurrences of a specific element from a list"
      ]
    },
    {
      "cell_type": "code",
      "execution_count": null,
      "metadata": {
        "colab": {
          "base_uri": "https://localhost:8080/"
        },
        "id": "7CLchrV5RUET",
        "outputId": "8c8b6423-a601-4674-d94a-5086a0c4cd4a"
      },
      "outputs": [
        {
          "output_type": "execute_result",
          "data": {
            "text/plain": [
              "[1, 3, 1, 4, 5, 6, 1, 4, 8, 9, 1]"
            ]
          },
          "metadata": {},
          "execution_count": 1
        }
      ],
      "source": [
        "list1 = [1,2,3,1,4,5,6,1,2,4,8,9,1]\n",
        "\n",
        "# let remove all 2 from the above list\n",
        "list(filter(lambda a: a != 2, list1))"
      ]
    },
    {
      "cell_type": "markdown",
      "source": [
        "## 12.) find the second largest number in a given list of integers?"
      ],
      "metadata": {
        "id": "FBjvuSW5RZ4n"
      }
    },
    {
      "cell_type": "code",
      "execution_count": null,
      "metadata": {
        "id": "TrmfgDXUUSpa",
        "colab": {
          "base_uri": "https://localhost:8080/"
        },
        "outputId": "01f6d1fb-d717-4ba6-d8ad-0e3b5d3b5633"
      },
      "outputs": [
        {
          "output_type": "stream",
          "name": "stdout",
          "text": [
            "Second largest element is: 50\n"
          ]
        }
      ],
      "source": [
        "list1 = [10, 20, 20, 4, 50, 45, 45, 99, 99]\n",
        "\n",
        "# Removing duplicates from the list\n",
        "list2 = list(set(list1))\n",
        "\n",
        "# Sorting the  list\n",
        "list2.sort()\n",
        "\n",
        "print(\"Second largest element is:\", list2[-2])"
      ]
    },
    {
      "cell_type": "markdown",
      "source": [
        "## 13.) count the occurrences of each element in a list and return a dictionary with elements as keys and their counts as values"
      ],
      "metadata": {
        "id": "s3wTo_mXR5CH"
      }
    },
    {
      "cell_type": "code",
      "source": [
        "i = ['apple','red','apple','red','red','pear']\n",
        "\n",
        "d = {x:i.count(x) for x in i}\n",
        "print (d)"
      ],
      "metadata": {
        "id": "K078H1i2R6sS",
        "colab": {
          "base_uri": "https://localhost:8080/"
        },
        "outputId": "c1766690-4218-4cfd-ced3-ee4b6c8e7b65"
      },
      "execution_count": null,
      "outputs": [
        {
          "output_type": "stream",
          "name": "stdout",
          "text": [
            "{'apple': 2, 'red': 3, 'pear': 1}\n"
          ]
        }
      ]
    },
    {
      "cell_type": "markdown",
      "source": [
        "## 14.) code to reverse a list in-place without using any built-in reverse functions"
      ],
      "metadata": {
        "id": "DWt3n6XESK_S"
      }
    },
    {
      "cell_type": "code",
      "source": [
        "list1 = [10,20,50,40,30,70,80,60,90]\n",
        "print(list1[::-1])"
      ],
      "metadata": {
        "id": "pxwadXuHSSN1",
        "colab": {
          "base_uri": "https://localhost:8080/"
        },
        "outputId": "9ed10c66-767b-4a08-e7f4-1cc13cdc5864"
      },
      "execution_count": null,
      "outputs": [
        {
          "output_type": "stream",
          "name": "stdout",
          "text": [
            "[90, 60, 80, 70, 30, 40, 50, 20, 10]\n"
          ]
        }
      ]
    },
    {
      "cell_type": "markdown",
      "source": [
        "## 15.)find and remove duplicates from a list while preserving the original order of elements"
      ],
      "metadata": {
        "id": "aNLyLpRrSffZ"
      }
    },
    {
      "cell_type": "code",
      "source": [
        "list1 = [1, 3, 5, 6, 7, 5, 6, 1]\n",
        "print(\"The original list is : \" + str(list1))\n",
        "res = []\n",
        "\n",
        "[res.append(x) for x in list1 if x not in res]\n",
        "\n",
        "\n",
        "print (\"The list after removing duplicates : \", str(res))"
      ],
      "metadata": {
        "id": "gxq7OV9uSjTM",
        "colab": {
          "base_uri": "https://localhost:8080/"
        },
        "outputId": "475e619f-4279-46c0-978b-93169fa92c82"
      },
      "execution_count": null,
      "outputs": [
        {
          "output_type": "stream",
          "name": "stdout",
          "text": [
            "The original list is : [1, 3, 5, 6, 7, 5, 6, 1]\n",
            "The list after removing duplicates :  [1, 3, 5, 6, 7]\n"
          ]
        }
      ]
    },
    {
      "cell_type": "markdown",
      "source": [
        "## 16.) check if a given list is sorted (either in ascending or descending order) or not"
      ],
      "metadata": {
        "id": "F-JfUsPcSs8D"
      }
    },
    {
      "cell_type": "code",
      "source": [
        "test_list = [1, 4,5,8, 10]\n",
        "\n",
        "print (\"Original list : \" + str(test_list))\n",
        "\n",
        "flag = 0\n",
        "if(test_list == sorted(test_list)):\n",
        "    flag = 1\n",
        "\n",
        "\n",
        "if (flag) :\n",
        "    print (\"Yes, List is sorted.\")\n",
        "else :\n",
        "    print (\"No, List is not sorted.\")"
      ],
      "metadata": {
        "id": "SW6Mj57RSxbU",
        "colab": {
          "base_uri": "https://localhost:8080/"
        },
        "outputId": "0dd2dad7-45a2-42ba-f9cd-cd8ecc7fb5c7"
      },
      "execution_count": null,
      "outputs": [
        {
          "output_type": "stream",
          "name": "stdout",
          "text": [
            "Original list : [1, 4, 5, 8, 10]\n",
            "Yes, List is sorted.\n"
          ]
        }
      ]
    },
    {
      "cell_type": "markdown",
      "source": [
        "## 17.)  Write a code to merge two sorted lists into a single sorted list?"
      ],
      "metadata": {
        "id": "inU0OIgjS0jx"
      }
    },
    {
      "cell_type": "code",
      "source": [
        "list1 = [1, 5, 6, 2, 3, 9, 11]\n",
        "list2 = [3, 4, 7, 8, 5, 6, 10]\n",
        "\n",
        "sorted_list1 = sorted(list1)\n",
        "sorted_list2 = sorted(list2)\n",
        "print(\"the sorted list1 is: \", sorted_list1)\n",
        "print(\"the sorted list2 is: \", sorted_list2)\n",
        "\n",
        "res = sorted(sorted_list1 + sorted_list2)\n",
        "\n",
        "# printing result\n",
        "print (\"The combined sorted list is :\",res)"
      ],
      "metadata": {
        "id": "yOrsl_TQS7p5",
        "colab": {
          "base_uri": "https://localhost:8080/"
        },
        "outputId": "608c06a8-f6b4-4b73-ca02-5ef186be2fa0"
      },
      "execution_count": null,
      "outputs": [
        {
          "output_type": "stream",
          "name": "stdout",
          "text": [
            "the sorted list1 is:  [1, 2, 3, 5, 6, 9, 11]\n",
            "the sorted list2 is:  [3, 4, 5, 6, 7, 8, 10]\n",
            "The combined sorted list is : [1, 2, 3, 3, 4, 5, 5, 6, 6, 7, 8, 9, 10, 11]\n"
          ]
        }
      ]
    },
    {
      "cell_type": "markdown",
      "source": [
        "## 18.) Implement a code to find the intersection of two given lists?"
      ],
      "metadata": {
        "id": "OlxGodDYS9lP"
      }
    },
    {
      "cell_type": "code",
      "source": [
        "def intersection(list1, list2):\n",
        "    return list(set(list1) & set(list2))\n",
        "\n",
        "\n",
        "list1 = [1,3,5,8,9,7]\n",
        "list2 = [2,4,5,7,8,4,6]\n",
        "print(intersection(list1, list2))"
      ],
      "metadata": {
        "id": "Dj0mkOlwTE8A",
        "colab": {
          "base_uri": "https://localhost:8080/"
        },
        "outputId": "e8e08b6b-c074-4775-bd32-a072d210d59a"
      },
      "execution_count": null,
      "outputs": [
        {
          "output_type": "stream",
          "name": "stdout",
          "text": [
            "[8, 5, 7]\n"
          ]
        }
      ]
    },
    {
      "cell_type": "markdown",
      "source": [
        "## 19.) Create a code to find the union of two lists without duplicates"
      ],
      "metadata": {
        "id": "Kf9iQypYTFdp"
      }
    },
    {
      "cell_type": "code",
      "source": [
        "def union(list1, list2):\n",
        "    return list(set(list1) | set(list2))\n",
        "\n",
        "\n",
        "list1 = [1,3,5,8,9,7]\n",
        "list2 = [2,4,5,7,8,4,6]\n",
        "print(union(list1, list2))"
      ],
      "metadata": {
        "id": "2Ze2PeJFTLYQ",
        "colab": {
          "base_uri": "https://localhost:8080/"
        },
        "outputId": "dca28853-50e3-4858-d537-45d639ae5780"
      },
      "execution_count": null,
      "outputs": [
        {
          "output_type": "stream",
          "name": "stdout",
          "text": [
            "[1, 2, 3, 4, 5, 6, 7, 8, 9]\n"
          ]
        }
      ]
    },
    {
      "cell_type": "markdown",
      "source": [
        "## 20.) Write a code to shuffle a given list randomly without using any built-in shuffle functions"
      ],
      "metadata": {
        "id": "qR7hy63rTP5V"
      }
    },
    {
      "cell_type": "code",
      "source": [
        "list1 = [1, 4, 5, 6, 3]\n",
        "\n",
        "print(\"The original list is : \",list1)\n",
        "list2 = list(set(list1))\n",
        "\n",
        "print(\"The shuffled list is :\",list2)"
      ],
      "metadata": {
        "colab": {
          "base_uri": "https://localhost:8080/"
        },
        "id": "mJ2JjhygTvoa",
        "outputId": "6af4871b-f0a4-4663-e546-8b35cd141c3f"
      },
      "execution_count": null,
      "outputs": [
        {
          "output_type": "stream",
          "name": "stdout",
          "text": [
            "The original list is :  [1, 4, 5, 6, 3]\n",
            "The shuffled list is : [1, 3, 4, 5, 6]\n"
          ]
        }
      ]
    },
    {
      "cell_type": "markdown",
      "source": [
        "## 21.) takes two tuples as input and returns a new tuple containing elements that are common to both input tuples"
      ],
      "metadata": {
        "id": "yvX5DrbpUgza"
      }
    },
    {
      "cell_type": "code",
      "source": [
        "t1 = (1,5,7,5,4,6)\n",
        "t2 = (4,7,9,11,14,5)\n",
        "\n",
        "t3 = tuple(set(t1).intersection(set(t2)))\n",
        "print(t3)"
      ],
      "metadata": {
        "colab": {
          "base_uri": "https://localhost:8080/"
        },
        "id": "F4jdasqiHy9a",
        "outputId": "913fadb1-9778-417b-80c7-3be2085df864"
      },
      "execution_count": null,
      "outputs": [
        {
          "output_type": "stream",
          "name": "stdout",
          "text": [
            "(4, 5, 7)\n"
          ]
        }
      ]
    },
    {
      "cell_type": "markdown",
      "source": [
        "## 22.) code that prompts the user to enter two sets of integers separated by commas. Then, print the  intersection of these two sets"
      ],
      "metadata": {
        "id": "6-eZA3s6UgwR"
      }
    },
    {
      "cell_type": "code",
      "source": [
        "x = set(input().split(','))\n",
        "y = set(input().split(','))\n",
        "\n",
        "print(\"set x: \",x)\n",
        "print(\"set y: \",y)\n",
        "\n",
        "print(\"Intersection of set x and set y: \",x & y)"
      ],
      "metadata": {
        "colab": {
          "base_uri": "https://localhost:8080/"
        },
        "id": "p99oQDmQLDKe",
        "outputId": "d8e1af54-d74b-4ca8-9378-2ae2d21fa6de"
      },
      "execution_count": null,
      "outputs": [
        {
          "output_type": "stream",
          "name": "stdout",
          "text": [
            "1,2,3,4,5,6\n",
            "4,5,3,7,8,9\n",
            "set x:  {'3', '5', '1', '4', '2', '6'}\n",
            "set y:  {'3', '5', '4', '9', '7', '8'}\n",
            "Intersection of set x and set y:  {'5', '3', '4'}\n"
          ]
        }
      ]
    },
    {
      "cell_type": "markdown",
      "source": [
        "## 23.) concatenate two tuples. The function should take two tuples as input and return a new tuple containing elements from both input tuples"
      ],
      "metadata": {
        "id": "4Zh3OCG6HBGf"
      }
    },
    {
      "cell_type": "code",
      "source": [
        "t1 = tuple(input().split(','))\n",
        "t2 = tuple(input().split(','))\n",
        "\n",
        "print(\"first tuple is : \",t1)\n",
        "print(\"second tuple is : \",t2)\n",
        "\n",
        "print(\"Concatenation of two tuple: \", t1+t2)"
      ],
      "metadata": {
        "colab": {
          "base_uri": "https://localhost:8080/"
        },
        "id": "4O8R79rRMRsb",
        "outputId": "7d93fd41-9277-4bf1-9979-efc4d9913e4e"
      },
      "execution_count": null,
      "outputs": [
        {
          "output_type": "stream",
          "name": "stdout",
          "text": [
            "2,3,5,6\n",
            "7,6,8,9\n",
            "first tuple is :  ('2', '3', '5', '6')\n",
            "second tuple is :  ('7', '6', '8', '9')\n",
            "Concatenation of two tuple:  ('2', '3', '5', '6', '7', '6', '8', '9')\n"
          ]
        }
      ]
    },
    {
      "cell_type": "markdown",
      "source": [
        "## 24.) code that prompts the user to input two sets of strings. Then, print the elements that are present in the first set but not in the second set&"
      ],
      "metadata": {
        "id": "iS0iQoNSUgm7"
      }
    },
    {
      "cell_type": "code",
      "source": [
        "x = set(input().split(','))\n",
        "y = set(input().split(','))\n",
        "\n",
        "print(\"set x: \",x)\n",
        "print(\"set y: \",y)\n",
        "\n",
        "print(\"Elements present in set x not in set y are:\",x - y)"
      ],
      "metadata": {
        "colab": {
          "base_uri": "https://localhost:8080/"
        },
        "id": "aHrlg4Q1N5qc",
        "outputId": "264f1b0a-21f9-462d-d881-e8b64908861d"
      },
      "execution_count": null,
      "outputs": [
        {
          "output_type": "stream",
          "name": "stdout",
          "text": [
            "2,3,5,7,8\n",
            "1,3,5,7,9,10\n",
            "set x:  {'3', '5', '2', '7', '8'}\n",
            "set y:  {'3', '5', '1', '9', '7', '10'}\n",
            "Elements present in set x not in set y are: {'2', '8'}\n"
          ]
        }
      ]
    },
    {
      "cell_type": "markdown",
      "source": [
        "## 25.) takes a tuple and two integers as input. The function should return a new tuple containing elements from the original tuple within the specified range of indices"
      ],
      "metadata": {
        "id": "8cGTHSerUgk0"
      }
    },
    {
      "cell_type": "code",
      "source": [
        "orignal_tuple = (10,20,30,40,50)\n",
        "num1 = 35\n",
        "num2 = 60\n",
        "new_tuple = tuple(list(orignal_tuple) + [num1,num2])\n",
        "print(new_tuple)"
      ],
      "metadata": {
        "colab": {
          "base_uri": "https://localhost:8080/"
        },
        "id": "15S1f3PlO6Fa",
        "outputId": "6650a4c5-8374-48b1-b7f1-df2b7246e480"
      },
      "execution_count": null,
      "outputs": [
        {
          "output_type": "stream",
          "name": "stdout",
          "text": [
            "(10, 20, 30, 40, 50, 35, 60)\n"
          ]
        }
      ]
    },
    {
      "cell_type": "markdown",
      "source": [
        "## 26.) Write a code that prompts the user to input two sets of characters. Then, print the union of these two sets&"
      ],
      "metadata": {
        "id": "Mk0PmlnTDiDq"
      }
    },
    {
      "cell_type": "code",
      "source": [
        "setA =  set(input(\"Enter first set of characters: \"))\n",
        "setB =  set(input(\"Enter second set of characters: \"))\n",
        "\n",
        "print(setA.union(setB))"
      ],
      "metadata": {
        "colab": {
          "base_uri": "https://localhost:8080/"
        },
        "id": "GUDCH15kDp3l",
        "outputId": "3b2e01c9-e3d6-4417-a112-e8ac9568053d"
      },
      "execution_count": null,
      "outputs": [
        {
          "output_type": "stream",
          "name": "stdout",
          "text": [
            "Enter first set of characters: a,a,v,b,c,d,e,f\n",
            "Enter second set of characters: a,b,c,d,r,t,s\n",
            "{'v', 's', 'f', 'b', 'a', 'd', 'c', 'e', 'r', ',', 't'}\n"
          ]
        }
      ]
    },
    {
      "cell_type": "markdown",
      "source": [
        "## 27.) Develop a code that takes a tuple of integers as input. The function should return the maximum and minimum values from the tuple using tuple unpacking."
      ],
      "metadata": {
        "id": "juYw7CQ_E4SV"
      }
    },
    {
      "cell_type": "code",
      "source": [
        "# prompt: maximum and minimum values from the tuple using tuple unpacking.\n",
        "\n",
        "t1 = (10,40,30,60,70,80,40,10,5)\n",
        "print(t1)\n",
        "max_val, min_val = max(t1), min(t1)\n",
        "print(\"Maximum value:\",max_val)\n",
        "print(f\"Minimum value:\",min_val)\n"
      ],
      "metadata": {
        "id": "u-hyfUv6JDbl",
        "colab": {
          "base_uri": "https://localhost:8080/"
        },
        "outputId": "ae16d47f-6fc3-4098-ea8f-a1229de872c3"
      },
      "execution_count": null,
      "outputs": [
        {
          "output_type": "stream",
          "name": "stdout",
          "text": [
            "(10, 40, 30, 60, 70, 80, 40, 10, 5)\n",
            "Maximum value: 80\n",
            "Minimum value: 5\n"
          ]
        }
      ]
    },
    {
      "cell_type": "markdown",
      "source": [
        "## 28.) Create a code that defines two sets of integers. Then, print the union, intersection, and difference of these two sets."
      ],
      "metadata": {
        "id": "DQl6TU37StSK"
      }
    },
    {
      "cell_type": "code",
      "source": [
        "set_A = {10,20,30,40,50}\n",
        "set_B = {30,40,50,60,70}\n",
        "\n",
        "print(\"set A = \",set_A)\n",
        "print(\"set B = \",set_A)\n",
        "\n",
        "print(\"Union of set A and set B :\")\n",
        "print(set_A.union(set_B))\n",
        "\n",
        "print(\"Intersection of set A and set B :\")\n",
        "print(set_A.intersection(set_B))\n",
        "\n",
        "print(\"Difference of set A and set B :\")\n",
        "print(set_A.difference(set_B))"
      ],
      "metadata": {
        "colab": {
          "base_uri": "https://localhost:8080/"
        },
        "id": "xOV4Dh01TJPR",
        "outputId": "98a94ef6-da48-4652-c48c-8afeb97ca542"
      },
      "execution_count": null,
      "outputs": [
        {
          "output_type": "stream",
          "name": "stdout",
          "text": [
            "set A =  {50, 20, 40, 10, 30}\n",
            "set B =  {50, 20, 40, 10, 30}\n",
            "Union of set A and set B :\n",
            "{70, 40, 10, 50, 20, 60, 30}\n",
            "Intersection of set A and set B :\n",
            "{40, 50, 30}\n",
            "Difference of set A and set B :\n",
            "{10, 20}\n"
          ]
        }
      ]
    },
    {
      "cell_type": "markdown",
      "source": [
        "## 29.) Write a code that takes a tuple and an element as input. The function should return the count of occurrences of the given element in the tuple."
      ],
      "metadata": {
        "id": "vmC-60biUf2_"
      }
    },
    {
      "cell_type": "code",
      "source": [
        "tuple1 = (10, 8, 5, 2, 10, 15, 10, 8, 5, 8, 8, 2)\n",
        "x = [i for i in tuple1 if i == 10]\n",
        "print(\"the element 10 occurs\", len(x), \"times\")\n"
      ],
      "metadata": {
        "colab": {
          "base_uri": "https://localhost:8080/"
        },
        "id": "SeGminJOVhke",
        "outputId": "ebc74dbb-c684-4bf8-9eb4-593cbc004e40"
      },
      "execution_count": null,
      "outputs": [
        {
          "output_type": "stream",
          "name": "stdout",
          "text": [
            "the element 10 occurs 3 times\n"
          ]
        }
      ]
    },
    {
      "cell_type": "markdown",
      "source": [
        "## 30.) Develop a code that prompts the user to input two sets of strings. Then, print the symmetric difference of these two sets.\n"
      ],
      "metadata": {
        "id": "KwiT3Jh7Umbr"
      }
    },
    {
      "cell_type": "code",
      "source": [
        "A = input(\"enter some string : \")\n",
        "A = {n for n in A.split(',')}\n",
        "\n",
        "B = input(\"enter some string: \")\n",
        "B = {n for n in B.split(',')}\n",
        "\n",
        "print(\"Symmetric difference of set A and B are :-\")\n",
        "print(A.symmetric_difference(B))"
      ],
      "metadata": {
        "colab": {
          "base_uri": "https://localhost:8080/"
        },
        "id": "sgKbQoKXUxt-",
        "outputId": "d352f388-cc9c-44dc-e244-1d7b7ebe6869"
      },
      "execution_count": null,
      "outputs": [
        {
          "output_type": "stream",
          "name": "stdout",
          "text": [
            "enter some string : a,b,c,d,e\n",
            "enter some string: d,e,c,f,g\n",
            "Symmetric difference of set A and B are :-\n",
            "{'b', 'a', 'g', 'f'}\n"
          ]
        }
      ]
    },
    {
      "cell_type": "markdown",
      "source": [
        "## 31.) Write a code that takes a list of words as input and returns a dictionary where the keys are unique words and the values are the frequencies of those words in the input list.\n"
      ],
      "metadata": {
        "id": "6zLqHudFUggp"
      }
    },
    {
      "cell_type": "code",
      "source": [
        "def word_frequency(word_list):\n",
        "\n",
        "  dict = {}\n",
        "\n",
        "  for word in word_list:\n",
        "    keys = dict.keys()\n",
        "\n",
        "    if word in keys:\n",
        "      dict[word] += 1\n",
        "    else:\n",
        "      dict[word] = 1\n",
        "\n",
        "  return dict\n",
        "\n",
        "\n",
        "word_list = [\"mango\",\"guava\",\"orange\",\"guava\",\"litchi\",\"apple\",\"mango\",\"guava\"]\n",
        "print(word_frequency(word_list))\n"
      ],
      "metadata": {
        "colab": {
          "base_uri": "https://localhost:8080/"
        },
        "id": "QPbrzBq6NNGC",
        "outputId": "d040c813-3355-4520-8300-e375fa50a2ed"
      },
      "execution_count": null,
      "outputs": [
        {
          "output_type": "stream",
          "name": "stdout",
          "text": [
            "{'mango': 2, 'guava': 3, 'orange': 1, 'litchi': 1, 'apple': 1}\n"
          ]
        }
      ]
    },
    {
      "cell_type": "markdown",
      "source": [
        "## 32.) takes two dictionaries as input and merges them into a single dictionary. If there are common keys, the values should be added together ?"
      ],
      "metadata": {
        "id": "KQjKPPXVea4f"
      }
    },
    {
      "cell_type": "code",
      "source": [
        "from collections import Counter\n",
        "\n",
        "dict1 = {'A': 12, 'B': 25, 'C': 9}\n",
        "dict2 = {\"B\":120,\"C\":97,\"D\":35,\"E\":46}\n",
        "dict3= {}\n",
        "\n",
        "print(\"first dictionary: \",dict1)\n",
        "print(\"second dictionary: \",dict2)\n",
        "\n",
        "dict3 = Counter(dict1)+ Counter(dict2)\n",
        "\n",
        "print(\"dictionary after merging: \", dict3)"
      ],
      "metadata": {
        "colab": {
          "base_uri": "https://localhost:8080/"
        },
        "id": "Sg1PrTMEfTzc",
        "outputId": "ed9ee0ba-1b3e-44dc-c891-ca9aca2d1b3f"
      },
      "execution_count": null,
      "outputs": [
        {
          "output_type": "stream",
          "name": "stdout",
          "text": [
            "first dictionary:  {'A': 12, 'B': 25, 'C': 9}\n",
            "second dictionary:  {'B': 120, 'C': 97, 'D': 35, 'E': 46}\n",
            "dictionary after merging:  Counter({'B': 145, 'C': 106, 'E': 46, 'D': 35, 'A': 12})\n"
          ]
        }
      ]
    },
    {
      "cell_type": "markdown",
      "source": [
        "## 33.) code to access a value in a nested dictionary. The function should take the dictionary and a list of keys as input, and return the corresponding value. If any of the keys do not exist in the dictionary, the function should return None."
      ],
      "metadata": {
        "id": "F2NeY4zxUgd5"
      }
    },
    {
      "cell_type": "markdown",
      "source": [
        "### Confusion"
      ],
      "metadata": {
        "id": "112Y9zM6EydZ"
      }
    },
    {
      "cell_type": "code",
      "source": [],
      "metadata": {
        "id": "pA53CltdfSQs"
      },
      "execution_count": null,
      "outputs": []
    },
    {
      "cell_type": "markdown",
      "source": [
        "## 34.) takes a dictionary as input and returns a sorted version of it based on the values. You can choose whether to sort in ascending or descending order"
      ],
      "metadata": {
        "id": "DbCnd5tlUgao"
      }
    },
    {
      "cell_type": "code",
      "source": [
        "import operator\n",
        "\n",
        "d = {'d': 2, 'c': 4, 'a': 3, 'b': 1, 'e': 0}\n",
        "\n",
        "print('Original dictionary : ',d)\n",
        "\n",
        "# Sort the items  based on the values.\n",
        "sorted_d = sorted(d.items(), key=operator.itemgetter(1))\n",
        "print('Dictionary in ascending order by value : ',sorted_d)\n",
        "\n",
        "# The 'reverse=True' argument sorts the list in descending order by value.\n",
        "sorted_d = dict( sorted(d.items(), key=operator.itemgetter(1), reverse=True))\n",
        "print('Dictionary in descending order by value : ',sorted_d)\n"
      ],
      "metadata": {
        "id": "TaSRXtLhfSke",
        "colab": {
          "base_uri": "https://localhost:8080/"
        },
        "outputId": "5efee744-cd6a-4c01-a554-05c3532d0336"
      },
      "execution_count": null,
      "outputs": [
        {
          "output_type": "stream",
          "name": "stdout",
          "text": [
            "Original dictionary :  {'d': 2, 'c': 4, 'a': 3, 'b': 1, 'e': 0}\n",
            "Dictionary in ascending order by value :  [('e', 0), ('b', 1), ('d', 2), ('a', 3), ('c', 4)]\n",
            "Dictionary in descending order by value :  {'c': 4, 'a': 3, 'd': 2, 'b': 1, 'e': 0}\n"
          ]
        }
      ]
    },
    {
      "cell_type": "markdown",
      "source": [
        "## 35.) code that inverts a dictionary, swapping keys and values. Ensure that the inverted dictionary correctly handles cases where multiple keys have the same value by storing the keys as a list in the inverted dictionary."
      ],
      "metadata": {
        "id": "zEg-cq0jUgVF"
      }
    },
    {
      "cell_type": "code",
      "source": [
        "old_dict = {'A': 67, 'B': 23, 'C': 45, 'E': 12, 'F': 69, 'G': 67, 'H': 23}\n",
        "\n",
        "# Printing original dictionary\n",
        "print (\"Original dictionary is : \")\n",
        "print(old_dict)\n",
        "\n",
        "print()\n",
        "new_dict = {}\n",
        "for key, value in old_dict.items():\n",
        "   if value in new_dict:\n",
        "       new_dict[value].append(key)\n",
        "   else:\n",
        "       new_dict[value]=[key]\n",
        "\n",
        "# Printing new dictionary after swapping\n",
        "# keys and values\n",
        "print (\"Dictionary after swapping is :  \")\n",
        "print(\"keys: values\")\n",
        "for i in new_dict:\n",
        "    print(i, \" :\", new_dict[i])"
      ],
      "metadata": {
        "id": "WqHJcSRafTAT",
        "colab": {
          "base_uri": "https://localhost:8080/"
        },
        "outputId": "d9cc6cc3-8fbc-4e45-ca00-65c9430ab909"
      },
      "execution_count": null,
      "outputs": [
        {
          "output_type": "stream",
          "name": "stdout",
          "text": [
            "Original dictionary is : \n",
            "{'A': 67, 'B': 23, 'C': 45, 'E': 12, 'F': 69, 'G': 67, 'H': 23}\n",
            "\n",
            "Dictionary after swapping is :  \n",
            "keys: values\n",
            "67  : ['A', 'G']\n",
            "23  : ['B', 'H']\n",
            "45  : ['C']\n",
            "12  : ['E']\n",
            "69  : ['F']\n"
          ]
        }
      ]
    }
  ],
  "metadata": {
    "colab": {
      "toc_visible": true,
      "provenance": [],
      "authorship_tag": "ABX9TyOzTBQNs/xrXHczfDoBCbrh",
      "include_colab_link": true
    },
    "kernelspec": {
      "display_name": "Python 3",
      "name": "python3"
    },
    "language_info": {
      "name": "python"
    }
  },
  "nbformat": 4,
  "nbformat_minor": 0
}